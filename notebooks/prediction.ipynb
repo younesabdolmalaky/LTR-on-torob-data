{
  "nbformat": 4,
  "nbformat_minor": 0,
  "metadata": {
    "colab": {
      "provenance": [],
      "authorship_tag": "ABX9TyNpe6C10KMFc4dpQ7gX0LAc",
      "include_colab_link": true
    },
    "kernelspec": {
      "name": "python3",
      "display_name": "Python 3"
    },
    "language_info": {
      "name": "python"
    }
  },
  "cells": [
    {
      "cell_type": "markdown",
      "metadata": {
        "id": "view-in-github",
        "colab_type": "text"
      },
      "source": [
        "<a href=\"https://colab.research.google.com/github/younesabdolmalaky/LTR-on-torob-data/blob/main/notebooks/prediction.ipynb\" target=\"_parent\"><img src=\"https://colab.research.google.com/assets/colab-badge.svg\" alt=\"Open In Colab\"/></a>"
      ]
    },
    {
      "cell_type": "code",
      "execution_count": 1,
      "metadata": {
        "colab": {
          "base_uri": "https://localhost:8080/"
        },
        "id": "6Uyj0FDWv89a",
        "outputId": "91fc4ca0-81ab-4c36-fc73-e618da868f2b"
      },
      "outputs": [
        {
          "output_type": "stream",
          "name": "stdout",
          "text": [
            "Mounted at /content/drive\n"
          ]
        }
      ],
      "source": [
        "from google.colab import drive\n",
        "drive.mount('/content/drive')"
      ]
    },
    {
      "cell_type": "code",
      "source": [
        "import pandas as pd\n",
        "import json\n",
        "import numpy as np\n",
        "import pickle\n",
        "from tensorflow.keras.preprocessing.sequence import pad_sequences"
      ],
      "metadata": {
        "id": "Agj_NlDsv-iU"
      },
      "execution_count": 2,
      "outputs": []
    },
    {
      "cell_type": "code",
      "source": [
        "def read_json_lines(path, n_lines=None):\n",
        "    \"\"\"Creates a generator which reads and returns lines of\n",
        "    a json lines file, one line at a time, each as a dictionary.\n",
        "    \n",
        "    This could be used as a memory-efficient alternative of `pandas.read_json`\n",
        "    for reading a json lines file.\n",
        "    \"\"\"\n",
        "    with open(path, 'r') as f:\n",
        "        for i, line in enumerate(f):\n",
        "            if n_lines == i:\n",
        "                break\n",
        "            yield json.loads(line)\n",
        "aggregated_search_data_path = '/content/drive/MyDrive/torob/output_data/aggregated_search_data.jsonl'\n",
        "preprocessed_products_path = '/content/drive/MyDrive/torob/output_data/preprocessed_products.jsonl'\n",
        "preprocessed_test_queries_path = '/content/drive/MyDrive/torob/output_data/preprocessed_test_queries.jsonl'"
      ],
      "metadata": {
        "id": "QM6mOkRuwph4"
      },
      "execution_count": 3,
      "outputs": []
    },
    {
      "cell_type": "code",
      "source": [
        "query_normal = pd.DataFrame(read_json_lines('/content/drive/MyDrive/torob/data/test-offline-data_v1.jsonl'))"
      ],
      "metadata": {
        "id": "f-96clQXwrs1"
      },
      "execution_count": 4,
      "outputs": []
    },
    {
      "cell_type": "code",
      "source": [
        "products_data_df = pd.DataFrame(read_json_lines(preprocessed_products_path))"
      ],
      "metadata": {
        "id": "o8NqGhRPwvbN"
      },
      "execution_count": 5,
      "outputs": []
    },
    {
      "cell_type": "code",
      "source": [
        "products_id_to_idx = dict(\n",
        "    (p_id, idx)\n",
        "    for idx, p_id in enumerate(products_data_df['id'])\n",
        ")"
      ],
      "metadata": {
        "id": "zceaeSFVwwj0"
      },
      "execution_count": 6,
      "outputs": []
    },
    {
      "cell_type": "code",
      "source": [
        "doc = pickle.load(open('/content/drive/MyDrive/torob/Features/doc_tfidf.h5', \"rb\"))\n",
        "query = pickle.load(open('/content/drive/MyDrive/torob/Features/test_query_tfidf.h5', \"rb\"))"
      ],
      "metadata": {
        "id": "mFi6zE9zwLEG"
      },
      "execution_count": 7,
      "outputs": []
    },
    {
      "cell_type": "code",
      "source": [
        "rand = np.load('/content/drive/MyDrive/torob/Features/rand.npy')"
      ],
      "metadata": {
        "id": "5SjqCV8_x7FJ"
      },
      "execution_count": 8,
      "outputs": []
    },
    {
      "cell_type": "code",
      "source": [
        "def batch_generator(query_results , batch_size , query ,doc , products_id_to_idx):\n",
        "  count = 0\n",
        "  a = []\n",
        "  b = []\n",
        "  for qid, agg_search in (enumerate(query_results.itertuples(index=False))):\n",
        "    for product_id in agg_search.result_not_ranked:\n",
        "      if product_id is None:\n",
        "            continue\n",
        "      p_idx = products_id_to_idx[product_id]\n",
        "      a.append(query[qid].dot(rand))\n",
        "      b.append(doc[p_idx].dot(rand))\n",
        "      count = count  + 1\n",
        "      if(count>=batch_size):\n",
        "        count = 0\n",
        "        yield a,b\n",
        "        a = []\n",
        "        b = []"
      ],
      "metadata": {
        "id": "Ai2uOyEcwLJR"
      },
      "execution_count": 9,
      "outputs": []
    },
    {
      "cell_type": "code",
      "source": [
        "batch_size = 8196"
      ],
      "metadata": {
        "id": "NKC1MKLBv_FA"
      },
      "execution_count": 10,
      "outputs": []
    },
    {
      "cell_type": "code",
      "source": [
        "counter = 0\n",
        "for i in batch_generator(query_normal , batch_size ,query ,doc , products_id_to_idx):\n",
        "  counter = counter + len(i[0])"
      ],
      "metadata": {
        "id": "ffi7hBG9wzen"
      },
      "execution_count": 18,
      "outputs": []
    },
    {
      "cell_type": "code",
      "source": [
        "counter = 1344144"
      ],
      "metadata": {
        "id": "_mo24X6Dw1YC"
      },
      "execution_count": 18,
      "outputs": []
    },
    {
      "cell_type": "code",
      "source": [
        "import numpy as np\n",
        "from tensorflow.keras.models import load_model\n",
        "from tensorflow.keras import utils"
      ],
      "metadata": {
        "id": "5NJdJYPtw3Iy"
      },
      "execution_count": 13,
      "outputs": []
    },
    {
      "cell_type": "code",
      "source": [
        "def ranknet_loss(y_true, y_pred):\n",
        "    y_true = 2 * y_true - 1\n",
        "\n",
        "    pairwise_diff = tf.expand_dims(y_true, axis=1) - tf.expand_dims(y_true, axis=0)\n",
        "\n",
        "    pairwise_logits = tf.expand_dims(y_pred, axis=1) - tf.expand_dims(y_pred, axis=0)\n",
        "\n",
        "    mask = tf.cast(tf.not_equal(pairwise_diff, 0), tf.float32)\n",
        "    pairwise_logits = pairwise_logits * mask\n",
        "\n",
        "    loss = tf.reduce_mean(tf.nn.sigmoid_cross_entropy_with_logits(labels=tf.sigmoid(pairwise_diff), logits=pairwise_logits))\n",
        "\n",
        "    return loss"
      ],
      "metadata": {
        "id": "3bzrCzQN3wYk"
      },
      "execution_count": 14,
      "outputs": []
    },
    {
      "cell_type": "code",
      "source": [
        "utils.get_custom_objects()['ranknet_loss'] = ranknet_loss"
      ],
      "metadata": {
        "id": "Ei_574fB3tsP"
      },
      "execution_count": 15,
      "outputs": []
    },
    {
      "cell_type": "code",
      "source": [
        "model = load_model('/content/drive/MyDrive/torob/models/model_1.h5')"
      ],
      "metadata": {
        "id": "BMz9tal1w4ak"
      },
      "execution_count": 16,
      "outputs": []
    },
    {
      "cell_type": "code",
      "source": [
        "arr = np.ones((counter))\n",
        "batch = 0\n",
        "coun = 0 \n",
        "for i in batch_generator(query_normal , batch_size ,query ,doc , products_id_to_idx):\n",
        "  test = i\n",
        "  temp = np.hstack((np.array(i[0]).reshape(8196, 256) ,  np.array(i[1]).reshape(8196, 256)))\n",
        "  arr[batch:batch+batch_size] = model.predict(temp).flatten()\n",
        "  batch = batch + len(i[0])\n",
        "  print(coun)\n",
        "  coun = coun + 1"
      ],
      "metadata": {
        "colab": {
          "base_uri": "https://localhost:8080/"
        },
        "id": "KTRjcLcLw5cT",
        "outputId": "1e1b6bf4-707c-4892-d6c3-8b6b59b0b85b"
      },
      "execution_count": 20,
      "outputs": [
        {
          "output_type": "stream",
          "name": "stdout",
          "text": [
            "257/257 [==============================] - 3s 10ms/step\n",
            "0\n",
            "257/257 [==============================] - 4s 16ms/step\n",
            "1\n",
            "257/257 [==============================] - 3s 10ms/step\n",
            "2\n",
            "257/257 [==============================] - 3s 13ms/step\n",
            "3\n",
            "257/257 [==============================] - 3s 10ms/step\n",
            "4\n",
            "257/257 [==============================] - 3s 10ms/step\n",
            "5\n",
            "257/257 [==============================] - 4s 14ms/step\n",
            "6\n",
            "257/257 [==============================] - 3s 12ms/step\n",
            "7\n",
            "257/257 [==============================] - 3s 12ms/step\n",
            "8\n",
            "257/257 [==============================] - 3s 10ms/step\n",
            "9\n",
            "257/257 [==============================] - 3s 13ms/step\n",
            "10\n",
            "257/257 [==============================] - 3s 10ms/step\n",
            "11\n",
            "257/257 [==============================] - 4s 15ms/step\n",
            "12\n",
            "257/257 [==============================] - 2s 9ms/step\n",
            "13\n",
            "257/257 [==============================] - 3s 10ms/step\n",
            "14\n",
            "257/257 [==============================] - 4s 17ms/step\n",
            "15\n",
            "257/257 [==============================] - 3s 10ms/step\n",
            "16\n",
            "257/257 [==============================] - 4s 16ms/step\n",
            "17\n",
            "257/257 [==============================] - 3s 10ms/step\n",
            "18\n",
            "257/257 [==============================] - 3s 12ms/step\n",
            "19\n",
            "257/257 [==============================] - 3s 10ms/step\n",
            "20\n",
            "257/257 [==============================] - 3s 13ms/step\n",
            "21\n",
            "257/257 [==============================] - 3s 10ms/step\n",
            "22\n",
            "257/257 [==============================] - 3s 10ms/step\n",
            "23\n",
            "257/257 [==============================] - 3s 12ms/step\n",
            "24\n",
            "257/257 [==============================] - 3s 10ms/step\n",
            "25\n",
            "257/257 [==============================] - 4s 17ms/step\n",
            "26\n",
            "257/257 [==============================] - 3s 10ms/step\n",
            "27\n",
            "257/257 [==============================] - 5s 18ms/step\n",
            "28\n",
            "257/257 [==============================] - 3s 10ms/step\n",
            "29\n",
            "257/257 [==============================] - 3s 10ms/step\n",
            "30\n",
            "257/257 [==============================] - 3s 10ms/step\n",
            "31\n",
            "257/257 [==============================] - 3s 10ms/step\n",
            "32\n",
            "257/257 [==============================] - 3s 10ms/step\n",
            "33\n",
            "257/257 [==============================] - 3s 13ms/step\n",
            "34\n",
            "257/257 [==============================] - 3s 10ms/step\n",
            "35\n",
            "257/257 [==============================] - 3s 10ms/step\n",
            "36\n",
            "257/257 [==============================] - 3s 13ms/step\n",
            "37\n",
            "257/257 [==============================] - 3s 10ms/step\n",
            "38\n",
            "257/257 [==============================] - 4s 16ms/step\n",
            "39\n",
            "257/257 [==============================] - 3s 10ms/step\n",
            "40\n",
            "257/257 [==============================] - 3s 11ms/step\n",
            "41\n",
            "257/257 [==============================] - 3s 10ms/step\n",
            "42\n",
            "257/257 [==============================] - 4s 14ms/step\n",
            "43\n",
            "257/257 [==============================] - 3s 11ms/step\n",
            "44\n",
            "257/257 [==============================] - 3s 11ms/step\n",
            "45\n",
            "257/257 [==============================] - 3s 11ms/step\n",
            "46\n",
            "257/257 [==============================] - 3s 12ms/step\n",
            "47\n",
            "257/257 [==============================] - 3s 10ms/step\n",
            "48\n",
            "257/257 [==============================] - 3s 10ms/step\n",
            "49\n",
            "257/257 [==============================] - 3s 10ms/step\n",
            "50\n",
            "257/257 [==============================] - 3s 10ms/step\n",
            "51\n",
            "257/257 [==============================] - 5s 17ms/step\n",
            "52\n",
            "257/257 [==============================] - 3s 10ms/step\n",
            "53\n",
            "257/257 [==============================] - 3s 11ms/step\n",
            "54\n",
            "257/257 [==============================] - 3s 13ms/step\n",
            "55\n",
            "257/257 [==============================] - 3s 11ms/step\n",
            "56\n",
            "257/257 [==============================] - 3s 13ms/step\n",
            "57\n",
            "257/257 [==============================] - 3s 10ms/step\n",
            "58\n",
            "257/257 [==============================] - 3s 10ms/step\n",
            "59\n",
            "257/257 [==============================] - 3s 10ms/step\n",
            "60\n",
            "257/257 [==============================] - 3s 11ms/step\n",
            "61\n",
            "257/257 [==============================] - 3s 12ms/step\n",
            "62\n",
            "257/257 [==============================] - 3s 11ms/step\n",
            "63\n",
            "257/257 [==============================] - 4s 16ms/step\n",
            "64\n",
            "257/257 [==============================] - 2s 10ms/step\n",
            "65\n",
            "257/257 [==============================] - 4s 17ms/step\n",
            "66\n",
            "257/257 [==============================] - 2s 9ms/step\n",
            "67\n",
            "257/257 [==============================] - 3s 10ms/step\n",
            "68\n",
            "257/257 [==============================] - 4s 15ms/step\n",
            "69\n",
            "257/257 [==============================] - 3s 10ms/step\n",
            "70\n",
            "257/257 [==============================] - 4s 15ms/step\n",
            "71\n",
            "257/257 [==============================] - 3s 10ms/step\n",
            "72\n",
            "257/257 [==============================] - 4s 15ms/step\n",
            "73\n",
            "257/257 [==============================] - 2s 10ms/step\n",
            "74\n",
            "257/257 [==============================] - 3s 13ms/step\n",
            "75\n",
            "257/257 [==============================] - 3s 11ms/step\n",
            "76\n",
            "257/257 [==============================] - 3s 10ms/step\n",
            "77\n",
            "257/257 [==============================] - 3s 13ms/step\n",
            "78\n",
            "257/257 [==============================] - 3s 10ms/step\n",
            "79\n",
            "257/257 [==============================] - 4s 16ms/step\n",
            "80\n",
            "257/257 [==============================] - 2s 10ms/step\n",
            "81\n",
            "257/257 [==============================] - 3s 11ms/step\n",
            "82\n",
            "257/257 [==============================] - 3s 12ms/step\n",
            "83\n",
            "257/257 [==============================] - 3s 10ms/step\n",
            "84\n",
            "257/257 [==============================] - 4s 16ms/step\n",
            "85\n",
            "257/257 [==============================] - 3s 10ms/step\n",
            "86\n",
            "257/257 [==============================] - 3s 10ms/step\n",
            "87\n",
            "257/257 [==============================] - 3s 10ms/step\n",
            "88\n",
            "257/257 [==============================] - 3s 12ms/step\n",
            "89\n",
            "257/257 [==============================] - 3s 10ms/step\n",
            "90\n",
            "257/257 [==============================] - 4s 14ms/step\n",
            "91\n",
            "257/257 [==============================] - 3s 10ms/step\n",
            "92\n",
            "257/257 [==============================] - 3s 10ms/step\n",
            "93\n",
            "257/257 [==============================] - 2s 9ms/step\n",
            "94\n",
            "257/257 [==============================] - 3s 10ms/step\n",
            "95\n",
            "257/257 [==============================] - 4s 17ms/step\n",
            "96\n",
            "257/257 [==============================] - 3s 10ms/step\n",
            "97\n",
            "257/257 [==============================] - 3s 10ms/step\n",
            "98\n",
            "257/257 [==============================] - 3s 11ms/step\n",
            "99\n",
            "257/257 [==============================] - 3s 10ms/step\n",
            "100\n",
            "257/257 [==============================] - 4s 16ms/step\n",
            "101\n",
            "257/257 [==============================] - 3s 10ms/step\n",
            "102\n",
            "257/257 [==============================] - 4s 14ms/step\n",
            "103\n",
            "257/257 [==============================] - 3s 10ms/step\n",
            "104\n",
            "257/257 [==============================] - 3s 11ms/step\n",
            "105\n",
            "257/257 [==============================] - 3s 10ms/step\n",
            "106\n",
            "257/257 [==============================] - 3s 13ms/step\n",
            "107\n",
            "257/257 [==============================] - 3s 10ms/step\n",
            "108\n",
            "257/257 [==============================] - 3s 10ms/step\n",
            "109\n",
            "257/257 [==============================] - 4s 15ms/step\n",
            "110\n",
            "257/257 [==============================] - 3s 10ms/step\n",
            "111\n",
            "257/257 [==============================] - 3s 13ms/step\n",
            "112\n",
            "257/257 [==============================] - 3s 10ms/step\n",
            "113\n",
            "257/257 [==============================] - 2s 9ms/step\n",
            "114\n",
            "257/257 [==============================] - 4s 16ms/step\n",
            "115\n",
            "257/257 [==============================] - 3s 10ms/step\n",
            "116\n",
            "257/257 [==============================] - 4s 16ms/step\n",
            "117\n",
            "257/257 [==============================] - 3s 10ms/step\n",
            "118\n",
            "257/257 [==============================] - 4s 17ms/step\n",
            "119\n",
            "257/257 [==============================] - 3s 10ms/step\n",
            "120\n",
            "257/257 [==============================] - 3s 13ms/step\n",
            "121\n",
            "257/257 [==============================] - 3s 10ms/step\n",
            "122\n",
            "257/257 [==============================] - 3s 10ms/step\n",
            "123\n",
            "257/257 [==============================] - 3s 10ms/step\n",
            "124\n",
            "257/257 [==============================] - 3s 10ms/step\n",
            "125\n",
            "257/257 [==============================] - 4s 16ms/step\n",
            "126\n",
            "257/257 [==============================] - 3s 10ms/step\n",
            "127\n",
            "257/257 [==============================] - 2s 9ms/step\n",
            "128\n",
            "257/257 [==============================] - 4s 15ms/step\n",
            "129\n",
            "257/257 [==============================] - 3s 11ms/step\n",
            "130\n",
            "257/257 [==============================] - 4s 17ms/step\n",
            "131\n",
            "257/257 [==============================] - 3s 11ms/step\n",
            "132\n",
            "257/257 [==============================] - 3s 10ms/step\n",
            "133\n",
            "257/257 [==============================] - 4s 16ms/step\n",
            "134\n",
            "257/257 [==============================] - 3s 10ms/step\n",
            "135\n",
            "257/257 [==============================] - 4s 16ms/step\n",
            "136\n",
            "257/257 [==============================] - 3s 10ms/step\n",
            "137\n",
            "257/257 [==============================] - 4s 15ms/step\n",
            "138\n",
            "257/257 [==============================] - 3s 10ms/step\n",
            "139\n",
            "257/257 [==============================] - 3s 11ms/step\n",
            "140\n",
            "257/257 [==============================] - 4s 15ms/step\n",
            "141\n",
            "257/257 [==============================] - 3s 10ms/step\n",
            "142\n",
            "257/257 [==============================] - 5s 21ms/step\n",
            "143\n",
            "257/257 [==============================] - 2s 9ms/step\n",
            "144\n",
            "257/257 [==============================] - 4s 17ms/step\n",
            "145\n",
            "257/257 [==============================] - 3s 11ms/step\n",
            "146\n",
            "257/257 [==============================] - 4s 15ms/step\n",
            "147\n",
            "257/257 [==============================] - 3s 10ms/step\n",
            "148\n",
            "257/257 [==============================] - 4s 15ms/step\n",
            "149\n",
            "257/257 [==============================] - 3s 10ms/step\n",
            "150\n",
            "257/257 [==============================] - 3s 10ms/step\n",
            "151\n",
            "257/257 [==============================] - 4s 14ms/step\n",
            "152\n",
            "257/257 [==============================] - 3s 10ms/step\n",
            "153\n",
            "257/257 [==============================] - 3s 11ms/step\n",
            "154\n",
            "257/257 [==============================] - 3s 12ms/step\n",
            "155\n",
            "257/257 [==============================] - 3s 10ms/step\n",
            "156\n",
            "257/257 [==============================] - 4s 16ms/step\n",
            "157\n",
            "257/257 [==============================] - 3s 10ms/step\n",
            "158\n",
            "257/257 [==============================] - 4s 15ms/step\n",
            "159\n",
            "257/257 [==============================] - 3s 10ms/step\n",
            "160\n",
            "257/257 [==============================] - 3s 12ms/step\n",
            "161\n",
            "257/257 [==============================] - 3s 11ms/step\n",
            "162\n",
            "257/257 [==============================] - 3s 10ms/step\n",
            "163\n"
          ]
        }
      ]
    },
    {
      "cell_type": "code",
      "source": [
        "a1 = []\n",
        "b1 = []"
      ],
      "metadata": {
        "id": "4S3H43dKw7ED"
      },
      "execution_count": 38,
      "outputs": []
    },
    {
      "cell_type": "code",
      "source": [
        "count = 0"
      ],
      "metadata": {
        "id": "TWxXiJRAw8A4"
      },
      "execution_count": 39,
      "outputs": []
    },
    {
      "cell_type": "code",
      "source": [
        "for qid, agg_search in (enumerate(query_normal.itertuples(index=False))):\n",
        "  for product_id in agg_search.result_not_ranked:\n",
        "    count = count  + 1\n",
        "    if count < 1344144:\n",
        "      continue\n",
        "    if product_id is None:\n",
        "          continue\n",
        "    p_idx = products_id_to_idx[product_id]\n",
        "    a1.append(query[qid].dot(rand))\n",
        "    b1.append(doc[p_idx].dot(rand))\n"
      ],
      "metadata": {
        "id": "pi8-wiFsw9XP"
      },
      "execution_count": 40,
      "outputs": []
    },
    {
      "cell_type": "code",
      "source": [
        "np.array(b1).shape"
      ],
      "metadata": {
        "colab": {
          "base_uri": "https://localhost:8080/"
        },
        "id": "zlVGbp9Y814q",
        "outputId": "b1ed39b9-6eef-48e7-a0c2-e3d4940d4790"
      },
      "execution_count": 41,
      "outputs": [
        {
          "output_type": "execute_result",
          "data": {
            "text/plain": [
              "(5350, 1, 256)"
            ]
          },
          "metadata": {},
          "execution_count": 41
        }
      ]
    },
    {
      "cell_type": "code",
      "source": [
        "temp = np.hstack((np.array(b1).reshape(5350,256 ) ,  np.array(b1).reshape(5350, 256)))"
      ],
      "metadata": {
        "id": "qatJbRAE7916"
      },
      "execution_count": 42,
      "outputs": []
    },
    {
      "cell_type": "code",
      "source": [
        "temp.shape"
      ],
      "metadata": {
        "colab": {
          "base_uri": "https://localhost:8080/"
        },
        "id": "V0ppraBj8sdZ",
        "outputId": "499016df-a0a3-4c6a-dfb7-4b650608c249"
      },
      "execution_count": 43,
      "outputs": [
        {
          "output_type": "execute_result",
          "data": {
            "text/plain": [
              "(5350, 512)"
            ]
          },
          "metadata": {},
          "execution_count": 43
        }
      ]
    },
    {
      "cell_type": "code",
      "source": [
        "part1_pred = model.predict(temp).flatten()"
      ],
      "metadata": {
        "colab": {
          "base_uri": "https://localhost:8080/"
        },
        "id": "PxMn6uhjw-nO",
        "outputId": "eec19eb8-d6f3-4ecc-ea44-964623ffc41f"
      },
      "execution_count": 44,
      "outputs": [
        {
          "output_type": "stream",
          "name": "stdout",
          "text": [
            "168/168 [==============================] - 2s 12ms/step\n"
          ]
        }
      ]
    },
    {
      "cell_type": "code",
      "source": [
        "pred = np.concatenate((arr , part1_pred))"
      ],
      "metadata": {
        "id": "_705u5m2xER5"
      },
      "execution_count": 48,
      "outputs": []
    },
    {
      "cell_type": "code",
      "source": [
        "test_predictions = []"
      ],
      "metadata": {
        "id": "SVuVJk3lxFNF"
      },
      "execution_count": 49,
      "outputs": []
    },
    {
      "cell_type": "code",
      "source": [
        "test_data_df = pd.DataFrame(read_json_lines('/content/drive/MyDrive/torob/data/test-offline-data_v1.jsonl'))"
      ],
      "metadata": {
        "id": "XA-o6Kc49sDb"
      },
      "execution_count": 51,
      "outputs": []
    },
    {
      "cell_type": "code",
      "source": [
        "start_idx = 0\n",
        "for test_candidates in  test_data_df['result_not_ranked']:\n",
        "  preds_sample = pred[start_idx:start_idx + len(test_candidates)]\n",
        "  sorted_idx = np.argsort(preds_sample)[::-1]\n",
        "  sorted_candidates = [test_candidates[i] for i in sorted_idx]\n",
        "  test_predictions.append(sorted_candidates)\n",
        "  start_idx += len(test_candidates)"
      ],
      "metadata": {
        "id": "tMklzzW_xGCD"
      },
      "execution_count": 52,
      "outputs": []
    },
    {
      "cell_type": "code",
      "source": [
        "def write_test_predictions(predictions_path, predictions):\n",
        "    lines = []\n",
        "    for preds in predictions:\n",
        "        lines.append(\",\".join([str(p_id) for p_id in preds]))\n",
        "\n",
        "    with open(predictions_path, 'w') as f:\n",
        "        f.write(\"\\n\".join(lines))"
      ],
      "metadata": {
        "id": "X5dGMdR9xHEK"
      },
      "execution_count": 53,
      "outputs": []
    },
    {
      "cell_type": "code",
      "source": [
        "write_test_predictions('/content/predictions.txt', test_predictions)"
      ],
      "metadata": {
        "id": "Cf0pNgYKxIWT"
      },
      "execution_count": 54,
      "outputs": []
    },
    {
      "cell_type": "code",
      "source": [],
      "metadata": {
        "id": "uuHGrTCS3RvU"
      },
      "execution_count": null,
      "outputs": []
    }
  ]
}