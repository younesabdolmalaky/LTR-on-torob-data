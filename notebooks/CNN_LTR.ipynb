{
  "nbformat": 4,
  "nbformat_minor": 0,
  "metadata": {
    "colab": {
      "provenance": []
    },
    "kernelspec": {
      "name": "python3",
      "display_name": "Python 3"
    },
    "language_info": {
      "name": "python"
    },
    "accelerator": "GPU",
    "gpuClass": "standard"
  },
  "cells": [
    {
      "cell_type": "code",
      "execution_count": null,
      "metadata": {
        "colab": {
          "base_uri": "https://localhost:8080/"
        },
        "id": "n2TPAMW7Kzi-",
        "outputId": "e3974674-85b5-4051-c383-214db968eaf3"
      },
      "outputs": [
        {
          "output_type": "stream",
          "name": "stdout",
          "text": [
            "Mounted at /content/drive\n"
          ]
        }
      ],
      "source": [
        "from google.colab import drive\n",
        "drive.mount('/content/drive')"
      ]
    },
    {
      "cell_type": "code",
      "source": [
        "import os\n",
        "import json\n",
        "import gc\n",
        "import pickle\n",
        "from tqdm import tqdm\n",
        "import numpy as np\n",
        "import pandas as pd\n",
        "from sklearn.feature_extraction.text import TfidfVectorizer\n",
        "from scipy import sparse\n",
        "from tensorflow.keras.utils import Sequence\n",
        "import tensorflow as tf\n",
        "from tensorflow.keras import callbacks\n",
        "from tensorflow.keras.models import Model\n",
        "from tensorflow.keras import layers\n",
        "from tensorflow.keras.layers import Input , Dense , Dropout\n",
        "from tensorflow.keras.preprocessing.sequence import pad_sequences\n",
        "from tensorflow.keras.preprocessing.text import Tokenizer, text_to_word_sequence\n",
        "from tensorflow.keras.callbacks import ModelCheckpoint"
      ],
      "metadata": {
        "id": "a0O3WTTXLKMU"
      },
      "execution_count": null,
      "outputs": []
    },
    {
      "cell_type": "code",
      "source": [
        "def read_json_lines(path, n_lines=None):\n",
        "    \"\"\"Creates a generator which reads and returns lines of\n",
        "    a json lines file, one line at a time, each as a dictionary.\n",
        "    \n",
        "    This could be used as a memory-efficient alternative of `pandas.read_json`\n",
        "    for reading a json lines file.\n",
        "    \"\"\"\n",
        "    with open(path, 'r') as f:\n",
        "        for i, line in enumerate(f):\n",
        "            if n_lines == i:\n",
        "                break\n",
        "            yield json.loads(line)\n"
      ],
      "metadata": {
        "id": "8i5T9lTULPjf"
      },
      "execution_count": null,
      "outputs": []
    },
    {
      "cell_type": "code",
      "source": [
        "\n",
        "aggregated_search_data_path = '/content/drive/MyDrive/torob/output_data/aggregated_search_data.jsonl'\n",
        "preprocessed_products_path = '/content/drive/MyDrive/torob/output_data/preprocessed_products.jsonl'\n",
        "preprocessed_test_queries_path = '/content/drive/MyDrive/torob/output_data/preprocessed_test_queries.jsonl'"
      ],
      "metadata": {
        "id": "xkSqtcflLXRl"
      },
      "execution_count": null,
      "outputs": []
    },
    {
      "cell_type": "code",
      "source": [
        "aggregated_searches_df = pd.DataFrame(read_json_lines(aggregated_search_data_path, n_lines=None))"
      ],
      "metadata": {
        "id": "Ofh5MJRSLRNt"
      },
      "execution_count": null,
      "outputs": []
    },
    {
      "cell_type": "code",
      "source": [
        "products_data_df = pd.DataFrame(read_json_lines(preprocessed_products_path))"
      ],
      "metadata": {
        "id": "aRPe9x3HLoVV"
      },
      "execution_count": null,
      "outputs": []
    },
    {
      "cell_type": "code",
      "source": [
        "products_id_to_idx = dict(\n",
        "    (p_id, idx)\n",
        "    for idx, p_id in enumerate(products_data_df['id'])\n",
        ")"
      ],
      "metadata": {
        "id": "6pljNSL6ujec"
      },
      "execution_count": null,
      "outputs": []
    },
    {
      "cell_type": "code",
      "source": [
        "products_data_df.head(2)"
      ],
      "metadata": {
        "colab": {
          "base_uri": "https://localhost:8080/",
          "height": 112
        },
        "id": "E3kR-B0zJK2f",
        "outputId": "2ef8a7a1-d219-4ea5-868a-72426371867c"
      },
      "execution_count": null,
      "outputs": [
        {
          "output_type": "execute_result",
          "data": {
            "text/plain": [
              "        id                                   title_normalized\n",
              "0  1867826             میکروسکوپ مدل cgl 44121 سلسترون اپتیکی\n",
              "1   419611  gt مدل mustang فورد مایستو ماشین موستانگ ford ..."
            ],
            "text/html": [
              "\n",
              "  <div id=\"df-3350f3a7-6562-4781-a8ea-3b296ba99308\">\n",
              "    <div class=\"colab-df-container\">\n",
              "      <div>\n",
              "<style scoped>\n",
              "    .dataframe tbody tr th:only-of-type {\n",
              "        vertical-align: middle;\n",
              "    }\n",
              "\n",
              "    .dataframe tbody tr th {\n",
              "        vertical-align: top;\n",
              "    }\n",
              "\n",
              "    .dataframe thead th {\n",
              "        text-align: right;\n",
              "    }\n",
              "</style>\n",
              "<table border=\"1\" class=\"dataframe\">\n",
              "  <thead>\n",
              "    <tr style=\"text-align: right;\">\n",
              "      <th></th>\n",
              "      <th>id</th>\n",
              "      <th>title_normalized</th>\n",
              "    </tr>\n",
              "  </thead>\n",
              "  <tbody>\n",
              "    <tr>\n",
              "      <th>0</th>\n",
              "      <td>1867826</td>\n",
              "      <td>میکروسکوپ مدل cgl 44121 سلسترون اپتیکی</td>\n",
              "    </tr>\n",
              "    <tr>\n",
              "      <th>1</th>\n",
              "      <td>419611</td>\n",
              "      <td>gt مدل mustang فورد مایستو ماشین موستانگ ford ...</td>\n",
              "    </tr>\n",
              "  </tbody>\n",
              "</table>\n",
              "</div>\n",
              "      <button class=\"colab-df-convert\" onclick=\"convertToInteractive('df-3350f3a7-6562-4781-a8ea-3b296ba99308')\"\n",
              "              title=\"Convert this dataframe to an interactive table.\"\n",
              "              style=\"display:none;\">\n",
              "        \n",
              "  <svg xmlns=\"http://www.w3.org/2000/svg\" height=\"24px\"viewBox=\"0 0 24 24\"\n",
              "       width=\"24px\">\n",
              "    <path d=\"M0 0h24v24H0V0z\" fill=\"none\"/>\n",
              "    <path d=\"M18.56 5.44l.94 2.06.94-2.06 2.06-.94-2.06-.94-.94-2.06-.94 2.06-2.06.94zm-11 1L8.5 8.5l.94-2.06 2.06-.94-2.06-.94L8.5 2.5l-.94 2.06-2.06.94zm10 10l.94 2.06.94-2.06 2.06-.94-2.06-.94-.94-2.06-.94 2.06-2.06.94z\"/><path d=\"M17.41 7.96l-1.37-1.37c-.4-.4-.92-.59-1.43-.59-.52 0-1.04.2-1.43.59L10.3 9.45l-7.72 7.72c-.78.78-.78 2.05 0 2.83L4 21.41c.39.39.9.59 1.41.59.51 0 1.02-.2 1.41-.59l7.78-7.78 2.81-2.81c.8-.78.8-2.07 0-2.86zM5.41 20L4 18.59l7.72-7.72 1.47 1.35L5.41 20z\"/>\n",
              "  </svg>\n",
              "      </button>\n",
              "      \n",
              "  <style>\n",
              "    .colab-df-container {\n",
              "      display:flex;\n",
              "      flex-wrap:wrap;\n",
              "      gap: 12px;\n",
              "    }\n",
              "\n",
              "    .colab-df-convert {\n",
              "      background-color: #E8F0FE;\n",
              "      border: none;\n",
              "      border-radius: 50%;\n",
              "      cursor: pointer;\n",
              "      display: none;\n",
              "      fill: #1967D2;\n",
              "      height: 32px;\n",
              "      padding: 0 0 0 0;\n",
              "      width: 32px;\n",
              "    }\n",
              "\n",
              "    .colab-df-convert:hover {\n",
              "      background-color: #E2EBFA;\n",
              "      box-shadow: 0px 1px 2px rgba(60, 64, 67, 0.3), 0px 1px 3px 1px rgba(60, 64, 67, 0.15);\n",
              "      fill: #174EA6;\n",
              "    }\n",
              "\n",
              "    [theme=dark] .colab-df-convert {\n",
              "      background-color: #3B4455;\n",
              "      fill: #D2E3FC;\n",
              "    }\n",
              "\n",
              "    [theme=dark] .colab-df-convert:hover {\n",
              "      background-color: #434B5C;\n",
              "      box-shadow: 0px 1px 3px 1px rgba(0, 0, 0, 0.15);\n",
              "      filter: drop-shadow(0px 1px 2px rgba(0, 0, 0, 0.3));\n",
              "      fill: #FFFFFF;\n",
              "    }\n",
              "  </style>\n",
              "\n",
              "      <script>\n",
              "        const buttonEl =\n",
              "          document.querySelector('#df-3350f3a7-6562-4781-a8ea-3b296ba99308 button.colab-df-convert');\n",
              "        buttonEl.style.display =\n",
              "          google.colab.kernel.accessAllowed ? 'block' : 'none';\n",
              "\n",
              "        async function convertToInteractive(key) {\n",
              "          const element = document.querySelector('#df-3350f3a7-6562-4781-a8ea-3b296ba99308');\n",
              "          const dataTable =\n",
              "            await google.colab.kernel.invokeFunction('convertToInteractive',\n",
              "                                                     [key], {});\n",
              "          if (!dataTable) return;\n",
              "\n",
              "          const docLinkHtml = 'Like what you see? Visit the ' +\n",
              "            '<a target=\"_blank\" href=https://colab.research.google.com/notebooks/data_table.ipynb>data table notebook</a>'\n",
              "            + ' to learn more about interactive tables.';\n",
              "          element.innerHTML = '';\n",
              "          dataTable['output_type'] = 'display_data';\n",
              "          await google.colab.output.renderOutput(dataTable, element);\n",
              "          const docLink = document.createElement('div');\n",
              "          docLink.innerHTML = docLinkHtml;\n",
              "          element.appendChild(docLink);\n",
              "        }\n",
              "      </script>\n",
              "    </div>\n",
              "  </div>\n",
              "  "
            ]
          },
          "metadata": {},
          "execution_count": 8
        }
      ]
    },
    {
      "cell_type": "code",
      "source": [
        "def getDatasetSize(aggregated_searches_df , n_candidates = None):\n",
        "  counter = 0\n",
        "  for qid, agg_search in(enumerate(aggregated_searches_df.itertuples(index=False))):\n",
        "\n",
        "    if n_candidates is None:\n",
        "        limit = len(agg_search.results)\n",
        "    else:\n",
        "        limit = min(n_candidates, len(agg_search.results))\n",
        "    clicks = dict(zip(agg_search.clicks, agg_search.clicks_count))\n",
        "\n",
        "    for i, candidate_product_id in enumerate(agg_search.results[:limit]):\n",
        "        if candidate_product_id is None:\n",
        "            continue\n",
        "\n",
        "        counter = counter + 1\n",
        "  return counter"
      ],
      "metadata": {
        "id": "abdCF_ZT9S0l"
      },
      "execution_count": null,
      "outputs": []
    },
    {
      "cell_type": "code",
      "source": [
        "class DualChannelDataGenerator(Sequence):\n",
        "    def __init__(self, dataset_size , query, doc , aggregated_searches_df , vectorsize , batch_size):\n",
        "      self.dataset_size = dataset_size\n",
        "      self.query = query\n",
        "      self.doc = doc\n",
        "      self.batch_size = batch_size\n",
        "      self.aggregated_searches_df = aggregated_searches_df\n",
        "      self.loop1 = 0\n",
        "      self.loop2 = 0\n",
        "      self.vectorsize = vectorsize\n",
        "      self.n_candidates = None\n",
        "\n",
        "    def __len__(self):\n",
        "        return int(np.ceil(self.dataset_size/ float(self.batch_size)))\n",
        "\n",
        "    def __getitem__(self , idx):\n",
        "      a=np.zeros((self.batch_size, self.vectorsize) , dtype = float)\n",
        "      b=np.zeros((self.batch_size, self.vectorsize) , dtype = float)\n",
        "      batch_y = np.ones((self.batch_size))\n",
        "\n",
        "      counter = 0\n",
        "      loop = False\n",
        "      loop11 = self.loop1\n",
        "      loop22 = self.loop2\n",
        "      for qid, agg_search in (enumerate(aggregated_searches_df[self.loop1:].itertuples(index=False))):\n",
        "        if loop == True:\n",
        "          break\n",
        "\n",
        "        if self.n_candidates is None:\n",
        "            limit = len(agg_search.results)\n",
        "        else:\n",
        "            limit = min(self.n_candidates, len(agg_search.results))\n",
        "        clicks = dict(zip(agg_search.clicks, agg_search.clicks_count))\n",
        "\n",
        "        for candidate_product_id in agg_search.results[:limit][self.loop2:]:\n",
        "\n",
        "          if candidate_product_id is None:\n",
        "                continue\n",
        "\n",
        "          candidate_score = clicks.get(candidate_product_id, 0)\n",
        "          candidate_score = np.log2(candidate_score + 1)\n",
        "\n",
        "          loop22 = loop22 + 1\n",
        "          counter = counter + 1\n",
        "          if counter >= self.batch_size:\n",
        "            loop = True\n",
        "            self.loop2 = loop22\n",
        "            self.loop1 = loop11\n",
        "            break\n",
        "\n",
        "          p_idx = products_id_to_idx[candidate_product_id]\n",
        "          a[counter]=(query[qid])\n",
        "          b[counter]=(doc[p_idx])\n",
        "          batch_y[counter] = candidate_score \n",
        "\n",
        "\n",
        "        if loop == False:\n",
        "          loop22 = 0\n",
        "          loop11 = loop11 + 1\n",
        "\n",
        "      return [a,b] , batch_y\n"
      ],
      "metadata": {
        "id": "wSLrZLN0CjhN"
      },
      "execution_count": null,
      "outputs": []
    },
    {
      "cell_type": "code",
      "source": [
        "MAX_FEATURES = 12000\n",
        "tokenizer = Tokenizer(num_words=MAX_FEATURES)\n",
        "tokenizer.fit_on_texts(products_data_df['title_normalized'])"
      ],
      "metadata": {
        "id": "6sFbKHV577yU"
      },
      "execution_count": null,
      "outputs": []
    },
    {
      "cell_type": "code",
      "source": [
        "doc = tokenizer.texts_to_sequences(products_data_df['title_normalized'])\n",
        "query = tokenizer.texts_to_sequences(aggregated_searches_df['raw_query_normalized'])"
      ],
      "metadata": {
        "id": "Dbmpwy0I77si"
      },
      "execution_count": null,
      "outputs": []
    },
    {
      "cell_type": "code",
      "source": [
        "del products_data_df"
      ],
      "metadata": {
        "id": "R9AYFUud_lQS"
      },
      "execution_count": null,
      "outputs": []
    },
    {
      "cell_type": "code",
      "source": [
        "MAX_LENGTH = max(len(train_ex) for train_ex in doc)\n",
        "doc = pad_sequences(doc, maxlen=MAX_LENGTH)\n",
        "query = pad_sequences(query, maxlen=MAX_LENGTH)"
      ],
      "metadata": {
        "id": "DLv9unPb77nf"
      },
      "execution_count": null,
      "outputs": []
    },
    {
      "cell_type": "code",
      "source": [
        "# pickle.dump(tokenizer, open('/content/drive/MyDrive/torob/tokenizer.pkl', 'wb'))"
      ],
      "metadata": {
        "id": "w4BhPU9JOyDr"
      },
      "execution_count": null,
      "outputs": []
    },
    {
      "cell_type": "code",
      "source": [
        "MAX_LENGTH"
      ],
      "metadata": {
        "colab": {
          "base_uri": "https://localhost:8080/"
        },
        "id": "YzfaVS7TOvEw",
        "outputId": "1c7e5247-00ba-4997-deed-b71804d29ecc"
      },
      "execution_count": null,
      "outputs": [
        {
          "output_type": "execute_result",
          "data": {
            "text/plain": [
              "301"
            ]
          },
          "metadata": {},
          "execution_count": 16
        }
      ]
    },
    {
      "cell_type": "code",
      "source": [
        "sequences1 = Input(shape=(MAX_LENGTH,))\n",
        "embedded1 = layers.Embedding(MAX_FEATURES, 32)(sequences1)\n",
        "x1 = layers.Conv1D(64, 3, activation='relu')(embedded1)\n",
        "x1 = layers.BatchNormalization()(x1)\n",
        "x1 = layers.MaxPool1D(3)(x1)\n",
        "x1 = layers.Conv1D(16, 5, activation='relu')(x1)\n",
        "x1 = layers.GlobalMaxPool1D()(x1)\n",
        "x1 = layers.Flatten()(x1)\n",
        "x1 = layers.Dense(64, activation='relu')(x1)"
      ],
      "metadata": {
        "id": "qnGRpQub77iQ"
      },
      "execution_count": null,
      "outputs": []
    },
    {
      "cell_type": "code",
      "source": [
        "sequences2 = Input(shape=(MAX_LENGTH,))\n",
        "embedded2 = layers.Embedding(MAX_FEATURES, 32)(sequences2)\n",
        "x2 = layers.Conv1D(64, 3, activation='relu')(embedded2)\n",
        "x2 = layers.BatchNormalization()(x2)\n",
        "x2 = layers.MaxPool1D(3)(x2)\n",
        "x2 = layers.Conv1D(16, 5, activation='relu')(x2)\n",
        "x2 = layers.GlobalMaxPool1D()(x2)\n",
        "x2 = layers.Flatten()(x2)\n",
        "x2 = layers.Dense(64, activation='relu')(x2)"
      ],
      "metadata": {
        "id": "a3JyFEaf8kAC"
      },
      "execution_count": null,
      "outputs": []
    },
    {
      "cell_type": "code",
      "source": [
        "merged = layers.concatenate([x1, x2])\n",
        "dense1 = Dense(32, activation='relu')(merged)\n",
        "dense1 = Dropout(0.1)(dense1)\n",
        "dense1 = Dense(16, activation='relu')(dense1)\n",
        "outputs = Dense(1, activation='sigmoid')(dense1)"
      ],
      "metadata": {
        "id": "IKjFMm0I77ch"
      },
      "execution_count": null,
      "outputs": []
    },
    {
      "cell_type": "code",
      "source": [
        "model = Model(inputs=[sequences1, sequences2], outputs=outputs)"
      ],
      "metadata": {
        "id": "EV3aMQnn8_bf"
      },
      "execution_count": null,
      "outputs": []
    },
    {
      "cell_type": "code",
      "source": [
        "checkpoint = ModelCheckpoint(filepath='/content/drive/MyDrive/model_{epoch}.h5')"
      ],
      "metadata": {
        "id": "7Kf2mzEP77XY"
      },
      "execution_count": null,
      "outputs": []
    },
    {
      "cell_type": "code",
      "source": [
        "!pip install tensorflow-ranking"
      ],
      "metadata": {
        "colab": {
          "base_uri": "https://localhost:8080/",
          "height": 1000
        },
        "id": "w3Q1uz42U0em",
        "outputId": "c545e94d-1d48-4e16-fb21-bf40f2da3583"
      },
      "execution_count": null,
      "outputs": [
        {
          "metadata": {
            "tags": null
          },
          "name": "stdout",
          "output_type": "stream",
          "text": [
            "Looking in indexes: https://pypi.org/simple, https://us-python.pkg.dev/colab-wheels/public/simple/\n",
            "Collecting tensorflow-ranking\n",
            "  Downloading tensorflow_ranking-0.5.2-py2.py3-none-any.whl (150 kB)\n",
            "\u001b[2K     \u001b[90m━━━━━━━━━━━━━━━━━━━━━━━━━━━━━━━━━━━━━━\u001b[0m \u001b[32m150.4/150.4 KB\u001b[0m \u001b[31m15.1 MB/s\u001b[0m eta \u001b[36m0:00:00\u001b[0m\n",
            "\u001b[?25hRequirement already satisfied: absl-py>=0.1.6 in /usr/local/lib/python3.9/dist-packages (from tensorflow-ranking) (1.4.0)\n",
            "Collecting numpy==1.23.2\n",
            "  Downloading numpy-1.23.2-cp39-cp39-manylinux_2_17_x86_64.manylinux2014_x86_64.whl (17.1 MB)\n",
            "\u001b[2K     \u001b[90m━━━━━━━━━━━━━━━━━━━━━━━━━━━━━━━━━━━━━━━━\u001b[0m \u001b[32m17.1/17.1 MB\u001b[0m \u001b[31m26.5 MB/s\u001b[0m eta \u001b[36m0:00:00\u001b[0m\n",
            "\u001b[?25hCollecting tensorflow-serving-api<3.0.0,>=2.0.0\n",
            "  Downloading tensorflow_serving_api-2.11.1-py2.py3-none-any.whl (37 kB)\n",
            "Requirement already satisfied: six>=1.10.0 in /usr/local/lib/python3.9/dist-packages (from tensorflow-ranking) (1.16.0)\n",
            "Requirement already satisfied: protobuf<3.20,>=3.9.2 in /usr/local/lib/python3.9/dist-packages (from tensorflow-serving-api<3.0.0,>=2.0.0->tensorflow-ranking) (3.19.6)\n",
            "Collecting tensorflow<3,>=2.11.1\n",
            "  Downloading tensorflow-2.12.0-cp39-cp39-manylinux_2_17_x86_64.manylinux2014_x86_64.whl (585.9 MB)\n",
            "\u001b[2K     \u001b[90m━━━━━━━━━━━━━━━━━━━━━━━━━━━━━━━━━━━━━━━\u001b[0m \u001b[32m585.9/585.9 MB\u001b[0m \u001b[31m2.3 MB/s\u001b[0m eta \u001b[36m0:00:00\u001b[0m\n",
            "\u001b[?25hRequirement already satisfied: grpcio<2.0,>=1.24.3 in /usr/local/lib/python3.9/dist-packages (from tensorflow-serving-api<3.0.0,>=2.0.0->tensorflow-ranking) (1.51.3)\n",
            "Requirement already satisfied: packaging in /usr/local/lib/python3.9/dist-packages (from tensorflow<3,>=2.11.1->tensorflow-serving-api<3.0.0,>=2.0.0->tensorflow-ranking) (23.0)\n",
            "Requirement already satisfied: termcolor>=1.1.0 in /usr/local/lib/python3.9/dist-packages (from tensorflow<3,>=2.11.1->tensorflow-serving-api<3.0.0,>=2.0.0->tensorflow-ranking) (2.2.0)\n",
            "Collecting wrapt<1.15,>=1.11.0\n",
            "  Downloading wrapt-1.14.1-cp39-cp39-manylinux_2_5_x86_64.manylinux1_x86_64.manylinux_2_17_x86_64.manylinux2014_x86_64.whl (77 kB)\n",
            "\u001b[2K     \u001b[90m━━━━━━━━━━━━━━━━━━━━━━━━━━━━━━━━━━━━━━━━\u001b[0m \u001b[32m77.8/77.8 KB\u001b[0m \u001b[31m12.4 MB/s\u001b[0m eta \u001b[36m0:00:00\u001b[0m\n",
            "\u001b[?25hRequirement already satisfied: opt-einsum>=2.3.2 in /usr/local/lib/python3.9/dist-packages (from tensorflow<3,>=2.11.1->tensorflow-serving-api<3.0.0,>=2.0.0->tensorflow-ranking) (3.3.0)\n",
            "Requirement already satisfied: google-pasta>=0.1.1 in /usr/local/lib/python3.9/dist-packages (from tensorflow<3,>=2.11.1->tensorflow-serving-api<3.0.0,>=2.0.0->tensorflow-ranking) (0.2.0)\n",
            "Collecting tensorflow-estimator<2.13,>=2.12.0\n",
            "  Downloading tensorflow_estimator-2.12.0-py2.py3-none-any.whl (440 kB)\n",
            "\u001b[2K     \u001b[90m━━━━━━━━━━━━━━━━━━━━━━━━━━━━━━━━━━━━━━\u001b[0m \u001b[32m440.7/440.7 KB\u001b[0m \u001b[31m33.8 MB/s\u001b[0m eta \u001b[36m0:00:00\u001b[0m\n",
            "\u001b[?25hCollecting tensorboard<2.13,>=2.12\n",
            "  Downloading tensorboard-2.12.0-py3-none-any.whl (5.6 MB)\n",
            "\u001b[2K     \u001b[90m━━━━━━━━━━━━━━━━━━━━━━━━━━━━━━━━━━━━━━━━\u001b[0m \u001b[32m5.6/5.6 MB\u001b[0m \u001b[31m29.5 MB/s\u001b[0m eta \u001b[36m0:00:00\u001b[0m\n",
            "\u001b[?25hRequirement already satisfied: setuptools in /usr/local/lib/python3.9/dist-packages (from tensorflow<3,>=2.11.1->tensorflow-serving-api<3.0.0,>=2.0.0->tensorflow-ranking) (67.6.0)\n",
            "Requirement already satisfied: gast<=0.4.0,>=0.2.1 in /usr/local/lib/python3.9/dist-packages (from tensorflow<3,>=2.11.1->tensorflow-serving-api<3.0.0,>=2.0.0->tensorflow-ranking) (0.4.0)\n",
            "Requirement already satisfied: typing-extensions>=3.6.6 in /usr/local/lib/python3.9/dist-packages (from tensorflow<3,>=2.11.1->tensorflow-serving-api<3.0.0,>=2.0.0->tensorflow-ranking) (4.5.0)\n",
            "Requirement already satisfied: libclang>=13.0.0 in /usr/local/lib/python3.9/dist-packages (from tensorflow<3,>=2.11.1->tensorflow-serving-api<3.0.0,>=2.0.0->tensorflow-ranking) (15.0.6.1)\n",
            "Requirement already satisfied: flatbuffers>=2.0 in /usr/local/lib/python3.9/dist-packages (from tensorflow<3,>=2.11.1->tensorflow-serving-api<3.0.0,>=2.0.0->tensorflow-ranking) (23.3.3)\n",
            "Requirement already satisfied: h5py>=2.9.0 in /usr/local/lib/python3.9/dist-packages (from tensorflow<3,>=2.11.1->tensorflow-serving-api<3.0.0,>=2.0.0->tensorflow-ranking) (3.8.0)\n",
            "Requirement already satisfied: astunparse>=1.6.0 in /usr/local/lib/python3.9/dist-packages (from tensorflow<3,>=2.11.1->tensorflow-serving-api<3.0.0,>=2.0.0->tensorflow-ranking) (1.6.3)\n",
            "Requirement already satisfied: tensorflow-io-gcs-filesystem>=0.23.1 in /usr/local/lib/python3.9/dist-packages (from tensorflow<3,>=2.11.1->tensorflow-serving-api<3.0.0,>=2.0.0->tensorflow-ranking) (0.31.0)\n",
            "Requirement already satisfied: jax>=0.3.15 in /usr/local/lib/python3.9/dist-packages (from tensorflow<3,>=2.11.1->tensorflow-serving-api<3.0.0,>=2.0.0->tensorflow-ranking) (0.4.6)\n",
            "Collecting tensorflow<3,>=2.11.1\n",
            "  Downloading tensorflow-2.11.1-cp39-cp39-manylinux_2_17_x86_64.manylinux2014_x86_64.whl (588.3 MB)\n",
            "\u001b[2K     \u001b[90m━━━━━━━━━━━━━━━━━━━━━━━━━━━━━━━━━━━━━━━\u001b[0m \u001b[32m588.3/588.3 MB\u001b[0m \u001b[31m2.9 MB/s\u001b[0m eta \u001b[36m0:00:00\u001b[0m\n",
            "\u001b[?25hRequirement already satisfied: tensorboard<2.12,>=2.11 in /usr/local/lib/python3.9/dist-packages (from tensorflow<3,>=2.11.1->tensorflow-serving-api<3.0.0,>=2.0.0->tensorflow-ranking) (2.11.2)\n",
            "Requirement already satisfied: wrapt>=1.11.0 in /usr/local/lib/python3.9/dist-packages (from tensorflow<3,>=2.11.1->tensorflow-serving-api<3.0.0,>=2.0.0->tensorflow-ranking) (1.15.0)\n",
            "Requirement already satisfied: keras<2.12,>=2.11.0 in /usr/local/lib/python3.9/dist-packages (from tensorflow<3,>=2.11.1->tensorflow-serving-api<3.0.0,>=2.0.0->tensorflow-ranking) (2.11.0)\n",
            "Requirement already satisfied: tensorflow-estimator<2.12,>=2.11.0 in /usr/local/lib/python3.9/dist-packages (from tensorflow<3,>=2.11.1->tensorflow-serving-api<3.0.0,>=2.0.0->tensorflow-ranking) (2.11.0)\n",
            "Requirement already satisfied: wheel<1.0,>=0.23.0 in /usr/local/lib/python3.9/dist-packages (from astunparse>=1.6.0->tensorflow<3,>=2.11.1->tensorflow-serving-api<3.0.0,>=2.0.0->tensorflow-ranking) (0.40.0)\n",
            "Requirement already satisfied: markdown>=2.6.8 in /usr/local/lib/python3.9/dist-packages (from tensorboard<2.12,>=2.11->tensorflow<3,>=2.11.1->tensorflow-serving-api<3.0.0,>=2.0.0->tensorflow-ranking) (3.4.3)\n",
            "Requirement already satisfied: google-auth-oauthlib<0.5,>=0.4.1 in /usr/local/lib/python3.9/dist-packages (from tensorboard<2.12,>=2.11->tensorflow<3,>=2.11.1->tensorflow-serving-api<3.0.0,>=2.0.0->tensorflow-ranking) (0.4.6)\n",
            "Requirement already satisfied: google-auth<3,>=1.6.3 in /usr/local/lib/python3.9/dist-packages (from tensorboard<2.12,>=2.11->tensorflow<3,>=2.11.1->tensorflow-serving-api<3.0.0,>=2.0.0->tensorflow-ranking) (2.16.2)\n",
            "Requirement already satisfied: tensorboard-data-server<0.7.0,>=0.6.0 in /usr/local/lib/python3.9/dist-packages (from tensorboard<2.12,>=2.11->tensorflow<3,>=2.11.1->tensorflow-serving-api<3.0.0,>=2.0.0->tensorflow-ranking) (0.6.1)\n",
            "Requirement already satisfied: tensorboard-plugin-wit>=1.6.0 in /usr/local/lib/python3.9/dist-packages (from tensorboard<2.12,>=2.11->tensorflow<3,>=2.11.1->tensorflow-serving-api<3.0.0,>=2.0.0->tensorflow-ranking) (1.8.1)\n",
            "Requirement already satisfied: requests<3,>=2.21.0 in /usr/local/lib/python3.9/dist-packages (from tensorboard<2.12,>=2.11->tensorflow<3,>=2.11.1->tensorflow-serving-api<3.0.0,>=2.0.0->tensorflow-ranking) (2.27.1)\n",
            "Requirement already satisfied: werkzeug>=1.0.1 in /usr/local/lib/python3.9/dist-packages (from tensorboard<2.12,>=2.11->tensorflow<3,>=2.11.1->tensorflow-serving-api<3.0.0,>=2.0.0->tensorflow-ranking) (2.2.3)\n",
            "Requirement already satisfied: rsa<5,>=3.1.4 in /usr/local/lib/python3.9/dist-packages (from google-auth<3,>=1.6.3->tensorboard<2.12,>=2.11->tensorflow<3,>=2.11.1->tensorflow-serving-api<3.0.0,>=2.0.0->tensorflow-ranking) (4.9)\n",
            "Requirement already satisfied: pyasn1-modules>=0.2.1 in /usr/local/lib/python3.9/dist-packages (from google-auth<3,>=1.6.3->tensorboard<2.12,>=2.11->tensorflow<3,>=2.11.1->tensorflow-serving-api<3.0.0,>=2.0.0->tensorflow-ranking) (0.2.8)\n",
            "Requirement already satisfied: cachetools<6.0,>=2.0.0 in /usr/local/lib/python3.9/dist-packages (from google-auth<3,>=1.6.3->tensorboard<2.12,>=2.11->tensorflow<3,>=2.11.1->tensorflow-serving-api<3.0.0,>=2.0.0->tensorflow-ranking) (5.3.0)\n",
            "Requirement already satisfied: requests-oauthlib>=0.7.0 in /usr/local/lib/python3.9/dist-packages (from google-auth-oauthlib<0.5,>=0.4.1->tensorboard<2.12,>=2.11->tensorflow<3,>=2.11.1->tensorflow-serving-api<3.0.0,>=2.0.0->tensorflow-ranking) (1.3.1)\n",
            "Requirement already satisfied: importlib-metadata>=4.4 in /usr/local/lib/python3.9/dist-packages (from markdown>=2.6.8->tensorboard<2.12,>=2.11->tensorflow<3,>=2.11.1->tensorflow-serving-api<3.0.0,>=2.0.0->tensorflow-ranking) (6.1.0)\n",
            "Requirement already satisfied: certifi>=2017.4.17 in /usr/local/lib/python3.9/dist-packages (from requests<3,>=2.21.0->tensorboard<2.12,>=2.11->tensorflow<3,>=2.11.1->tensorflow-serving-api<3.0.0,>=2.0.0->tensorflow-ranking) (2022.12.7)\n",
            "Requirement already satisfied: urllib3<1.27,>=1.21.1 in /usr/local/lib/python3.9/dist-packages (from requests<3,>=2.21.0->tensorboard<2.12,>=2.11->tensorflow<3,>=2.11.1->tensorflow-serving-api<3.0.0,>=2.0.0->tensorflow-ranking) (1.26.15)\n",
            "Requirement already satisfied: idna<4,>=2.5 in /usr/local/lib/python3.9/dist-packages (from requests<3,>=2.21.0->tensorboard<2.12,>=2.11->tensorflow<3,>=2.11.1->tensorflow-serving-api<3.0.0,>=2.0.0->tensorflow-ranking) (3.4)\n",
            "Requirement already satisfied: charset-normalizer~=2.0.0 in /usr/local/lib/python3.9/dist-packages (from requests<3,>=2.21.0->tensorboard<2.12,>=2.11->tensorflow<3,>=2.11.1->tensorflow-serving-api<3.0.0,>=2.0.0->tensorflow-ranking) (2.0.12)\n",
            "Requirement already satisfied: MarkupSafe>=2.1.1 in /usr/local/lib/python3.9/dist-packages (from werkzeug>=1.0.1->tensorboard<2.12,>=2.11->tensorflow<3,>=2.11.1->tensorflow-serving-api<3.0.0,>=2.0.0->tensorflow-ranking) (2.1.2)\n",
            "Requirement already satisfied: zipp>=0.5 in /usr/local/lib/python3.9/dist-packages (from importlib-metadata>=4.4->markdown>=2.6.8->tensorboard<2.12,>=2.11->tensorflow<3,>=2.11.1->tensorflow-serving-api<3.0.0,>=2.0.0->tensorflow-ranking) (3.15.0)\n",
            "Requirement already satisfied: pyasn1<0.5.0,>=0.4.6 in /usr/local/lib/python3.9/dist-packages (from pyasn1-modules>=0.2.1->google-auth<3,>=1.6.3->tensorboard<2.12,>=2.11->tensorflow<3,>=2.11.1->tensorflow-serving-api<3.0.0,>=2.0.0->tensorflow-ranking) (0.4.8)\n",
            "Requirement already satisfied: oauthlib>=3.0.0 in /usr/local/lib/python3.9/dist-packages (from requests-oauthlib>=0.7.0->google-auth-oauthlib<0.5,>=0.4.1->tensorboard<2.12,>=2.11->tensorflow<3,>=2.11.1->tensorflow-serving-api<3.0.0,>=2.0.0->tensorflow-ranking) (3.2.2)\n",
            "Installing collected packages: numpy, tensorflow, tensorflow-serving-api, tensorflow-ranking\n",
            "  Attempting uninstall: numpy\n",
            "    Found existing installation: numpy 1.22.4\n",
            "    Uninstalling numpy-1.22.4:\n",
            "      Successfully uninstalled numpy-1.22.4\n",
            "  Attempting uninstall: tensorflow\n",
            "    Found existing installation: tensorflow 2.11.0\n",
            "    Uninstalling tensorflow-2.11.0:\n",
            "      Successfully uninstalled tensorflow-2.11.0\n",
            "Successfully installed numpy-1.23.2 tensorflow-2.11.1 tensorflow-ranking-0.5.2 tensorflow-serving-api-2.11.1\n"
          ]
        },
        {
          "data": {
            "application/vnd.colab-display-data+json": {
              "pip_warning": {
                "packages": [
                  "numpy",
                  "tensorflow"
                ]
              }
            }
          },
          "metadata": {},
          "output_type": "display_data"
        }
      ]
    },
    {
      "cell_type": "code",
      "source": [
        "import tensorflow_ranking as tfr"
      ],
      "metadata": {
        "id": "NtrpKNcoUva1"
      },
      "execution_count": null,
      "outputs": []
    },
    {
      "cell_type": "code",
      "source": [
        "model.compile(optimizer='adam', loss=tfr.keras.losses.ApproxNDCGLoss())"
      ],
      "metadata": {
        "id": "YOUNtJ3b8Qhg"
      },
      "execution_count": null,
      "outputs": []
    },
    {
      "cell_type": "code",
      "source": [
        "dataset_size = getDatasetSize(aggregated_searches_df)\n",
        "vectorsize = doc.shape[1]\n",
        "batch_size = 8192"
      ],
      "metadata": {
        "id": "Z57TC29z9Nm4"
      },
      "execution_count": null,
      "outputs": []
    },
    {
      "cell_type": "code",
      "source": [
        "train_generator = DualChannelDataGenerator( \n",
        "      dataset_size ,\n",
        "      query,\n",
        "      doc, \n",
        "      aggregated_searches_df , \n",
        "      vectorsize ,\n",
        "      batch_size\n",
        "      )"
      ],
      "metadata": {
        "id": "lcBtIQeQAYgt"
      },
      "execution_count": null,
      "outputs": []
    },
    {
      "cell_type": "code",
      "source": [
        "model.fit(train_generator, steps_per_epoch=len(train_generator), epochs=20,callbacks=[checkpoint])"
      ],
      "metadata": {
        "colab": {
          "base_uri": "https://localhost:8080/",
          "height": 544
        },
        "id": "sIuUfj_89Nzj",
        "outputId": "d273456f-a6da-4fb1-c4d3-2ba0b85fc46c"
      },
      "execution_count": null,
      "outputs": [
        {
          "metadata": {
            "tags": null
          },
          "name": "stdout",
          "output_type": "stream",
          "text": [
            "Epoch 1/20\n"
          ]
        },
        {
          "metadata": {
            "tags": null
          },
          "name": "stderr",
          "output_type": "stream",
          "text": [
            "WARNING:tensorflow:From /usr/local/lib/python3.9/dist-packages/tensorflow/python/autograph/pyct/static_analysis/liveness.py:83: Analyzer.lamba_check (from tensorflow.python.autograph.pyct.static_analysis.liveness) is deprecated and will be removed after 2023-09-23.\n",
            "Instructions for updating:\n",
            "Lambda fuctions will be no more assumed to be used in the statement where they are used, or at least in the same block. https://github.com/tensorflow/tensorflow/issues/56089\n"
          ]
        },
        {
          "output_type": "stream",
          "name": "stdout",
          "text": [
            "2930/2930 [==============================] - 2948s 1000ms/step - loss: -0.3922\n",
            "Epoch 2/20\n",
            "2930/2930 [==============================] - 2931s 1s/step - loss: -0.3936\n",
            "Epoch 3/20\n",
            " 837/2930 [=======>......................] - ETA: 34:38 - loss: -0.3936"
          ]
        },
        {
          "output_type": "error",
          "ename": "KeyboardInterrupt",
          "evalue": "ignored",
          "traceback": [
            "\u001b[0;31m---------------------------------------------------------------------------\u001b[0m",
            "\u001b[0;31mKeyboardInterrupt\u001b[0m                         Traceback (most recent call last)",
            "\u001b[0;32m<ipython-input-27-10c924ef3f1d>\u001b[0m in \u001b[0;36m<module>\u001b[0;34m\u001b[0m\n\u001b[0;32m----> 1\u001b[0;31m \u001b[0mmodel\u001b[0m\u001b[0;34m.\u001b[0m\u001b[0mfit\u001b[0m\u001b[0;34m(\u001b[0m\u001b[0mtrain_generator\u001b[0m\u001b[0;34m,\u001b[0m \u001b[0msteps_per_epoch\u001b[0m\u001b[0;34m=\u001b[0m\u001b[0mlen\u001b[0m\u001b[0;34m(\u001b[0m\u001b[0mtrain_generator\u001b[0m\u001b[0;34m)\u001b[0m\u001b[0;34m,\u001b[0m \u001b[0mepochs\u001b[0m\u001b[0;34m=\u001b[0m\u001b[0;36m20\u001b[0m\u001b[0;34m,\u001b[0m\u001b[0mcallbacks\u001b[0m\u001b[0;34m=\u001b[0m\u001b[0;34m[\u001b[0m\u001b[0mcheckpoint\u001b[0m\u001b[0;34m]\u001b[0m\u001b[0;34m)\u001b[0m\u001b[0;34m\u001b[0m\u001b[0;34m\u001b[0m\u001b[0m\n\u001b[0m",
            "\u001b[0;32m/usr/local/lib/python3.9/dist-packages/keras/utils/traceback_utils.py\u001b[0m in \u001b[0;36merror_handler\u001b[0;34m(*args, **kwargs)\u001b[0m\n\u001b[1;32m     63\u001b[0m         \u001b[0mfiltered_tb\u001b[0m \u001b[0;34m=\u001b[0m \u001b[0;32mNone\u001b[0m\u001b[0;34m\u001b[0m\u001b[0;34m\u001b[0m\u001b[0m\n\u001b[1;32m     64\u001b[0m         \u001b[0;32mtry\u001b[0m\u001b[0;34m:\u001b[0m\u001b[0;34m\u001b[0m\u001b[0;34m\u001b[0m\u001b[0m\n\u001b[0;32m---> 65\u001b[0;31m             \u001b[0;32mreturn\u001b[0m \u001b[0mfn\u001b[0m\u001b[0;34m(\u001b[0m\u001b[0;34m*\u001b[0m\u001b[0margs\u001b[0m\u001b[0;34m,\u001b[0m \u001b[0;34m**\u001b[0m\u001b[0mkwargs\u001b[0m\u001b[0;34m)\u001b[0m\u001b[0;34m\u001b[0m\u001b[0;34m\u001b[0m\u001b[0m\n\u001b[0m\u001b[1;32m     66\u001b[0m         \u001b[0;32mexcept\u001b[0m \u001b[0mException\u001b[0m \u001b[0;32mas\u001b[0m \u001b[0me\u001b[0m\u001b[0;34m:\u001b[0m\u001b[0;34m\u001b[0m\u001b[0;34m\u001b[0m\u001b[0m\n\u001b[1;32m     67\u001b[0m             \u001b[0mfiltered_tb\u001b[0m \u001b[0;34m=\u001b[0m \u001b[0m_process_traceback_frames\u001b[0m\u001b[0;34m(\u001b[0m\u001b[0me\u001b[0m\u001b[0;34m.\u001b[0m\u001b[0m__traceback__\u001b[0m\u001b[0;34m)\u001b[0m\u001b[0;34m\u001b[0m\u001b[0;34m\u001b[0m\u001b[0m\n",
            "\u001b[0;32m/usr/local/lib/python3.9/dist-packages/keras/engine/training.py\u001b[0m in \u001b[0;36mfit\u001b[0;34m(self, x, y, batch_size, epochs, verbose, callbacks, validation_split, validation_data, shuffle, class_weight, sample_weight, initial_epoch, steps_per_epoch, validation_steps, validation_batch_size, validation_freq, max_queue_size, workers, use_multiprocessing)\u001b[0m\n\u001b[1;32m   1648\u001b[0m                         ):\n\u001b[1;32m   1649\u001b[0m                             \u001b[0mcallbacks\u001b[0m\u001b[0;34m.\u001b[0m\u001b[0mon_train_batch_begin\u001b[0m\u001b[0;34m(\u001b[0m\u001b[0mstep\u001b[0m\u001b[0;34m)\u001b[0m\u001b[0;34m\u001b[0m\u001b[0;34m\u001b[0m\u001b[0m\n\u001b[0;32m-> 1650\u001b[0;31m                             \u001b[0mtmp_logs\u001b[0m \u001b[0;34m=\u001b[0m \u001b[0mself\u001b[0m\u001b[0;34m.\u001b[0m\u001b[0mtrain_function\u001b[0m\u001b[0;34m(\u001b[0m\u001b[0miterator\u001b[0m\u001b[0;34m)\u001b[0m\u001b[0;34m\u001b[0m\u001b[0;34m\u001b[0m\u001b[0m\n\u001b[0m\u001b[1;32m   1651\u001b[0m                             \u001b[0;32mif\u001b[0m \u001b[0mdata_handler\u001b[0m\u001b[0;34m.\u001b[0m\u001b[0mshould_sync\u001b[0m\u001b[0;34m:\u001b[0m\u001b[0;34m\u001b[0m\u001b[0;34m\u001b[0m\u001b[0m\n\u001b[1;32m   1652\u001b[0m                                 \u001b[0mcontext\u001b[0m\u001b[0;34m.\u001b[0m\u001b[0masync_wait\u001b[0m\u001b[0;34m(\u001b[0m\u001b[0;34m)\u001b[0m\u001b[0;34m\u001b[0m\u001b[0;34m\u001b[0m\u001b[0m\n",
            "\u001b[0;32m/usr/local/lib/python3.9/dist-packages/tensorflow/python/util/traceback_utils.py\u001b[0m in \u001b[0;36merror_handler\u001b[0;34m(*args, **kwargs)\u001b[0m\n\u001b[1;32m    148\u001b[0m     \u001b[0mfiltered_tb\u001b[0m \u001b[0;34m=\u001b[0m \u001b[0;32mNone\u001b[0m\u001b[0;34m\u001b[0m\u001b[0;34m\u001b[0m\u001b[0m\n\u001b[1;32m    149\u001b[0m     \u001b[0;32mtry\u001b[0m\u001b[0;34m:\u001b[0m\u001b[0;34m\u001b[0m\u001b[0;34m\u001b[0m\u001b[0m\n\u001b[0;32m--> 150\u001b[0;31m       \u001b[0;32mreturn\u001b[0m \u001b[0mfn\u001b[0m\u001b[0;34m(\u001b[0m\u001b[0;34m*\u001b[0m\u001b[0margs\u001b[0m\u001b[0;34m,\u001b[0m \u001b[0;34m**\u001b[0m\u001b[0mkwargs\u001b[0m\u001b[0;34m)\u001b[0m\u001b[0;34m\u001b[0m\u001b[0;34m\u001b[0m\u001b[0m\n\u001b[0m\u001b[1;32m    151\u001b[0m     \u001b[0;32mexcept\u001b[0m \u001b[0mException\u001b[0m \u001b[0;32mas\u001b[0m \u001b[0me\u001b[0m\u001b[0;34m:\u001b[0m\u001b[0;34m\u001b[0m\u001b[0;34m\u001b[0m\u001b[0m\n\u001b[1;32m    152\u001b[0m       \u001b[0mfiltered_tb\u001b[0m \u001b[0;34m=\u001b[0m \u001b[0m_process_traceback_frames\u001b[0m\u001b[0;34m(\u001b[0m\u001b[0me\u001b[0m\u001b[0;34m.\u001b[0m\u001b[0m__traceback__\u001b[0m\u001b[0;34m)\u001b[0m\u001b[0;34m\u001b[0m\u001b[0;34m\u001b[0m\u001b[0m\n",
            "\u001b[0;32m/usr/local/lib/python3.9/dist-packages/tensorflow/python/eager/polymorphic_function/polymorphic_function.py\u001b[0m in \u001b[0;36m__call__\u001b[0;34m(self, *args, **kwds)\u001b[0m\n\u001b[1;32m    878\u001b[0m \u001b[0;34m\u001b[0m\u001b[0m\n\u001b[1;32m    879\u001b[0m       \u001b[0;32mwith\u001b[0m \u001b[0mOptionalXlaContext\u001b[0m\u001b[0;34m(\u001b[0m\u001b[0mself\u001b[0m\u001b[0;34m.\u001b[0m\u001b[0m_jit_compile\u001b[0m\u001b[0;34m)\u001b[0m\u001b[0;34m:\u001b[0m\u001b[0;34m\u001b[0m\u001b[0;34m\u001b[0m\u001b[0m\n\u001b[0;32m--> 880\u001b[0;31m         \u001b[0mresult\u001b[0m \u001b[0;34m=\u001b[0m \u001b[0mself\u001b[0m\u001b[0;34m.\u001b[0m\u001b[0m_call\u001b[0m\u001b[0;34m(\u001b[0m\u001b[0;34m*\u001b[0m\u001b[0margs\u001b[0m\u001b[0;34m,\u001b[0m \u001b[0;34m**\u001b[0m\u001b[0mkwds\u001b[0m\u001b[0;34m)\u001b[0m\u001b[0;34m\u001b[0m\u001b[0;34m\u001b[0m\u001b[0m\n\u001b[0m\u001b[1;32m    881\u001b[0m \u001b[0;34m\u001b[0m\u001b[0m\n\u001b[1;32m    882\u001b[0m       \u001b[0mnew_tracing_count\u001b[0m \u001b[0;34m=\u001b[0m \u001b[0mself\u001b[0m\u001b[0;34m.\u001b[0m\u001b[0mexperimental_get_tracing_count\u001b[0m\u001b[0;34m(\u001b[0m\u001b[0;34m)\u001b[0m\u001b[0;34m\u001b[0m\u001b[0;34m\u001b[0m\u001b[0m\n",
            "\u001b[0;32m/usr/local/lib/python3.9/dist-packages/tensorflow/python/eager/polymorphic_function/polymorphic_function.py\u001b[0m in \u001b[0;36m_call\u001b[0;34m(self, *args, **kwds)\u001b[0m\n\u001b[1;32m    910\u001b[0m       \u001b[0;31m# In this case we have created variables on the first call, so we run the\u001b[0m\u001b[0;34m\u001b[0m\u001b[0;34m\u001b[0m\u001b[0m\n\u001b[1;32m    911\u001b[0m       \u001b[0;31m# defunned version which is guaranteed to never create variables.\u001b[0m\u001b[0;34m\u001b[0m\u001b[0;34m\u001b[0m\u001b[0m\n\u001b[0;32m--> 912\u001b[0;31m       \u001b[0;32mreturn\u001b[0m \u001b[0mself\u001b[0m\u001b[0;34m.\u001b[0m\u001b[0m_no_variable_creation_fn\u001b[0m\u001b[0;34m(\u001b[0m\u001b[0;34m*\u001b[0m\u001b[0margs\u001b[0m\u001b[0;34m,\u001b[0m \u001b[0;34m**\u001b[0m\u001b[0mkwds\u001b[0m\u001b[0;34m)\u001b[0m  \u001b[0;31m# pylint: disable=not-callable\u001b[0m\u001b[0;34m\u001b[0m\u001b[0;34m\u001b[0m\u001b[0m\n\u001b[0m\u001b[1;32m    913\u001b[0m     \u001b[0;32melif\u001b[0m \u001b[0mself\u001b[0m\u001b[0;34m.\u001b[0m\u001b[0m_variable_creation_fn\u001b[0m \u001b[0;32mis\u001b[0m \u001b[0;32mnot\u001b[0m \u001b[0;32mNone\u001b[0m\u001b[0;34m:\u001b[0m\u001b[0;34m\u001b[0m\u001b[0;34m\u001b[0m\u001b[0m\n\u001b[1;32m    914\u001b[0m       \u001b[0;31m# Release the lock early so that multiple threads can perform the call\u001b[0m\u001b[0;34m\u001b[0m\u001b[0;34m\u001b[0m\u001b[0m\n",
            "\u001b[0;32m/usr/local/lib/python3.9/dist-packages/tensorflow/python/eager/polymorphic_function/tracing_compiler.py\u001b[0m in \u001b[0;36m__call__\u001b[0;34m(self, *args, **kwargs)\u001b[0m\n\u001b[1;32m    132\u001b[0m       (concrete_function,\n\u001b[1;32m    133\u001b[0m        filtered_flat_args) = self._maybe_define_function(args, kwargs)\n\u001b[0;32m--> 134\u001b[0;31m     return concrete_function._call_flat(\n\u001b[0m\u001b[1;32m    135\u001b[0m         filtered_flat_args, captured_inputs=concrete_function.captured_inputs)  # pylint: disable=protected-access\n\u001b[1;32m    136\u001b[0m \u001b[0;34m\u001b[0m\u001b[0m\n",
            "\u001b[0;32m/usr/local/lib/python3.9/dist-packages/tensorflow/python/eager/polymorphic_function/monomorphic_function.py\u001b[0m in \u001b[0;36m_call_flat\u001b[0;34m(self, args, captured_inputs, cancellation_manager)\u001b[0m\n\u001b[1;32m   1743\u001b[0m         and executing_eagerly):\n\u001b[1;32m   1744\u001b[0m       \u001b[0;31m# No tape is watching; skip to running the function.\u001b[0m\u001b[0;34m\u001b[0m\u001b[0;34m\u001b[0m\u001b[0m\n\u001b[0;32m-> 1745\u001b[0;31m       return self._build_call_outputs(self._inference_function.call(\n\u001b[0m\u001b[1;32m   1746\u001b[0m           ctx, args, cancellation_manager=cancellation_manager))\n\u001b[1;32m   1747\u001b[0m     forward_backward = self._select_forward_and_backward_functions(\n",
            "\u001b[0;32m/usr/local/lib/python3.9/dist-packages/tensorflow/python/eager/polymorphic_function/monomorphic_function.py\u001b[0m in \u001b[0;36mcall\u001b[0;34m(self, ctx, args, cancellation_manager)\u001b[0m\n\u001b[1;32m    376\u001b[0m       \u001b[0;32mwith\u001b[0m \u001b[0m_InterpolateFunctionError\u001b[0m\u001b[0;34m(\u001b[0m\u001b[0mself\u001b[0m\u001b[0;34m)\u001b[0m\u001b[0;34m:\u001b[0m\u001b[0;34m\u001b[0m\u001b[0;34m\u001b[0m\u001b[0m\n\u001b[1;32m    377\u001b[0m         \u001b[0;32mif\u001b[0m \u001b[0mcancellation_manager\u001b[0m \u001b[0;32mis\u001b[0m \u001b[0;32mNone\u001b[0m\u001b[0;34m:\u001b[0m\u001b[0;34m\u001b[0m\u001b[0;34m\u001b[0m\u001b[0m\n\u001b[0;32m--> 378\u001b[0;31m           outputs = execute.execute(\n\u001b[0m\u001b[1;32m    379\u001b[0m               \u001b[0mstr\u001b[0m\u001b[0;34m(\u001b[0m\u001b[0mself\u001b[0m\u001b[0;34m.\u001b[0m\u001b[0msignature\u001b[0m\u001b[0;34m.\u001b[0m\u001b[0mname\u001b[0m\u001b[0;34m)\u001b[0m\u001b[0;34m,\u001b[0m\u001b[0;34m\u001b[0m\u001b[0;34m\u001b[0m\u001b[0m\n\u001b[1;32m    380\u001b[0m               \u001b[0mnum_outputs\u001b[0m\u001b[0;34m=\u001b[0m\u001b[0mself\u001b[0m\u001b[0;34m.\u001b[0m\u001b[0m_num_outputs\u001b[0m\u001b[0;34m,\u001b[0m\u001b[0;34m\u001b[0m\u001b[0;34m\u001b[0m\u001b[0m\n",
            "\u001b[0;32m/usr/local/lib/python3.9/dist-packages/tensorflow/python/eager/execute.py\u001b[0m in \u001b[0;36mquick_execute\u001b[0;34m(op_name, num_outputs, inputs, attrs, ctx, name)\u001b[0m\n\u001b[1;32m     50\u001b[0m   \u001b[0;32mtry\u001b[0m\u001b[0;34m:\u001b[0m\u001b[0;34m\u001b[0m\u001b[0;34m\u001b[0m\u001b[0m\n\u001b[1;32m     51\u001b[0m     \u001b[0mctx\u001b[0m\u001b[0;34m.\u001b[0m\u001b[0mensure_initialized\u001b[0m\u001b[0;34m(\u001b[0m\u001b[0;34m)\u001b[0m\u001b[0;34m\u001b[0m\u001b[0;34m\u001b[0m\u001b[0m\n\u001b[0;32m---> 52\u001b[0;31m     tensors = pywrap_tfe.TFE_Py_Execute(ctx._handle, device_name, op_name,\n\u001b[0m\u001b[1;32m     53\u001b[0m                                         inputs, attrs, num_outputs)\n\u001b[1;32m     54\u001b[0m   \u001b[0;32mexcept\u001b[0m \u001b[0mcore\u001b[0m\u001b[0;34m.\u001b[0m\u001b[0m_NotOkStatusException\u001b[0m \u001b[0;32mas\u001b[0m \u001b[0me\u001b[0m\u001b[0;34m:\u001b[0m\u001b[0;34m\u001b[0m\u001b[0;34m\u001b[0m\u001b[0m\n",
            "\u001b[0;31mKeyboardInterrupt\u001b[0m: "
          ]
        }
      ]
    },
    {
      "cell_type": "code",
      "source": [
        "model.save('/content/drive/MyDrive/models/model.h5')"
      ],
      "metadata": {
        "id": "Z-bhG8E89N4Q"
      },
      "execution_count": null,
      "outputs": []
    },
    {
      "cell_type": "code",
      "source": [
        "%reset -f"
      ],
      "metadata": {
        "id": "QusPad_1DO61"
      },
      "execution_count": null,
      "outputs": []
    },
    {
      "cell_type": "code",
      "source": [
        "from google.colab import drive\n",
        "drive.mount('/content/drive')"
      ],
      "metadata": {
        "colab": {
          "base_uri": "https://localhost:8080/"
        },
        "id": "YzOdo7VKDPB1",
        "outputId": "ccd61dee-0638-4eaf-bef6-bafddc09fd67"
      },
      "execution_count": null,
      "outputs": [
        {
          "output_type": "stream",
          "name": "stdout",
          "text": [
            "Drive already mounted at /content/drive; to attempt to forcibly remount, call drive.mount(\"/content/drive\", force_remount=True).\n"
          ]
        }
      ]
    },
    {
      "cell_type": "code",
      "source": [
        "import pandas as pd\n",
        "import json\n",
        "import pickle\n",
        "from tensorflow.keras.preprocessing.sequence import pad_sequences"
      ],
      "metadata": {
        "id": "1mJMJtF2MAuc"
      },
      "execution_count": null,
      "outputs": []
    },
    {
      "cell_type": "code",
      "source": [
        "def read_json_lines(path, n_lines=None):\n",
        "    \"\"\"Creates a generator which reads and returns lines of\n",
        "    a json lines file, one line at a time, each as a dictionary.\n",
        "    \n",
        "    This could be used as a memory-efficient alternative of `pandas.read_json`\n",
        "    for reading a json lines file.\n",
        "    \"\"\"\n",
        "    with open(path, 'r') as f:\n",
        "        for i, line in enumerate(f):\n",
        "            if n_lines == i:\n",
        "                break\n",
        "            yield json.loads(line)\n",
        "aggregated_search_data_path = '/content/drive/MyDrive/torob/output_data/aggregated_search_data.jsonl'\n",
        "preprocessed_products_path = '/content/drive/MyDrive/torob/output_data/preprocessed_products.jsonl'\n",
        "preprocessed_test_queries_path = '/content/drive/MyDrive/torob/output_data/preprocessed_test_queries.jsonl'"
      ],
      "metadata": {
        "id": "wqY9wf98RLaU"
      },
      "execution_count": null,
      "outputs": []
    },
    {
      "cell_type": "code",
      "source": [
        "query_normal = pd.DataFrame(read_json_lines('/content/drive/MyDrive/torob/data/test-offline-data_v1.jsonl'))"
      ],
      "metadata": {
        "id": "j-CeMW7qQe4q"
      },
      "execution_count": null,
      "outputs": []
    },
    {
      "cell_type": "code",
      "source": [
        "tokenizer = pickle.load(open('/content/drive/MyDrive/torob/tokenizer.pkl' , 'rb'))"
      ],
      "metadata": {
        "id": "Xy0LissdP_oS"
      },
      "execution_count": null,
      "outputs": []
    },
    {
      "cell_type": "code",
      "source": [
        "products_data_df = pd.DataFrame(read_json_lines(preprocessed_products_path))"
      ],
      "metadata": {
        "id": "Hseq4RpWQPdE"
      },
      "execution_count": null,
      "outputs": []
    },
    {
      "cell_type": "code",
      "source": [
        "products_id_to_idx = dict(\n",
        "    (p_id, idx)\n",
        "    for idx, p_id in enumerate(products_data_df['id'])\n",
        ")"
      ],
      "metadata": {
        "id": "DY7f136jVtBD"
      },
      "execution_count": null,
      "outputs": []
    },
    {
      "cell_type": "code",
      "source": [
        "doc = tokenizer.texts_to_sequences(products_data_df['title_normalized'])\n",
        "query = tokenizer.texts_to_sequences(query_normal['raw_query'])"
      ],
      "metadata": {
        "id": "rxf05rChQJwE"
      },
      "execution_count": null,
      "outputs": []
    },
    {
      "cell_type": "code",
      "source": [
        "MAX_LENGTH = 301\n",
        "doc = pad_sequences(doc, maxlen=MAX_LENGTH)\n",
        "query = pad_sequences(query, maxlen=MAX_LENGTH)"
      ],
      "metadata": {
        "id": "UGyDLDn2Tnv-"
      },
      "execution_count": null,
      "outputs": []
    },
    {
      "cell_type": "code",
      "source": [
        "def batch_generator(query_results , batch_size , query ,doc , products_id_to_idx):\n",
        "  count = 0\n",
        "  a = []\n",
        "  b = []\n",
        "  for qid, agg_search in (enumerate(query_results.itertuples(index=False))):\n",
        "    for product_id in agg_search.result_not_ranked:\n",
        "      if product_id is None:\n",
        "            continue\n",
        "      p_idx = products_id_to_idx[product_id]\n",
        "      a.append(query[qid])\n",
        "      b.append(doc[p_idx])\n",
        "      count = count  + 1\n",
        "      if(count>=batch_size):\n",
        "        count = 0\n",
        "        yield [a,b]\n",
        "        a = []\n",
        "        b = []"
      ],
      "metadata": {
        "id": "2os-QXnFHdNH"
      },
      "execution_count": null,
      "outputs": []
    },
    {
      "cell_type": "code",
      "source": [
        "batch_size = 8196"
      ],
      "metadata": {
        "id": "m58oZO5QRm89"
      },
      "execution_count": null,
      "outputs": []
    },
    {
      "cell_type": "code",
      "source": [
        "counter = 0\n",
        "for i in batch_generator(query_normal , batch_size ,query ,doc , products_id_to_idx):\n",
        "  counter = counter + len(i[0])"
      ],
      "metadata": {
        "id": "qEdaB4FLIDGd"
      },
      "execution_count": null,
      "outputs": []
    },
    {
      "cell_type": "code",
      "source": [
        "counter"
      ],
      "metadata": {
        "colab": {
          "base_uri": "https://localhost:8080/"
        },
        "id": "OPpQUjxxLwWt",
        "outputId": "cd31d1e5-0c21-4eb0-ceda-56f55c20147a"
      },
      "execution_count": null,
      "outputs": [
        {
          "output_type": "execute_result",
          "data": {
            "text/plain": [
              "1344144"
            ]
          },
          "metadata": {},
          "execution_count": 12
        }
      ]
    },
    {
      "cell_type": "code",
      "source": [
        "import numpy as np\n",
        "from tensorflow.keras.models import load_model"
      ],
      "metadata": {
        "id": "xJKiU6gGakaN"
      },
      "execution_count": null,
      "outputs": []
    },
    {
      "cell_type": "code",
      "source": [
        "model = load_model('/content/drive/MyDrive/models/model.h5')"
      ],
      "metadata": {
        "id": "npAyt-Z_ayct"
      },
      "execution_count": null,
      "outputs": []
    },
    {
      "cell_type": "code",
      "source": [
        "arr = np.ones((counter))\n",
        "batch = 0\n",
        "coun = 0 \n",
        "for i in batch_generator(query_normal , batch_size ,query ,doc , products_id_to_idx):\n",
        "  test = i\n",
        "  arr[batch:batch+batch_size] = model.predict([np.array(i[0]) ,  np.array(i[1])]).flatten()\n",
        "  batch = batch + len(i[0])\n",
        "  print(coun)\n",
        "  coun = coun + 1"
      ],
      "metadata": {
        "colab": {
          "base_uri": "https://localhost:8080/"
        },
        "id": "ZM2f1E05aEwX",
        "outputId": "0fe87b6a-e86a-42b4-93f6-e38e58792e66"
      },
      "execution_count": null,
      "outputs": [
        {
          "output_type": "stream",
          "name": "stdout",
          "text": [
            "257/257 [==============================] - 9s 3ms/step\n",
            "0\n",
            "257/257 [==============================] - 1s 3ms/step\n",
            "1\n",
            "257/257 [==============================] - 1s 3ms/step\n",
            "2\n",
            "257/257 [==============================] - 1s 3ms/step\n",
            "3\n",
            "257/257 [==============================] - 1s 3ms/step\n",
            "4\n",
            "257/257 [==============================] - 1s 3ms/step\n",
            "5\n",
            "257/257 [==============================] - 1s 3ms/step\n",
            "6\n",
            "257/257 [==============================] - 1s 3ms/step\n",
            "7\n",
            "257/257 [==============================] - 1s 4ms/step\n",
            "8\n",
            "257/257 [==============================] - 1s 4ms/step\n",
            "9\n",
            "257/257 [==============================] - 1s 4ms/step\n",
            "10\n",
            "257/257 [==============================] - 1s 3ms/step\n",
            "11\n",
            "257/257 [==============================] - 1s 3ms/step\n",
            "12\n",
            "257/257 [==============================] - 1s 3ms/step\n",
            "13\n",
            "257/257 [==============================] - 1s 3ms/step\n",
            "14\n",
            "257/257 [==============================] - 1s 3ms/step\n",
            "15\n",
            "257/257 [==============================] - 1s 3ms/step\n",
            "16\n",
            "257/257 [==============================] - 1s 3ms/step\n",
            "17\n",
            "257/257 [==============================] - 1s 3ms/step\n",
            "18\n",
            "257/257 [==============================] - 1s 4ms/step\n",
            "19\n",
            "257/257 [==============================] - 1s 4ms/step\n",
            "20\n",
            "257/257 [==============================] - 1s 3ms/step\n",
            "21\n",
            "257/257 [==============================] - 1s 3ms/step\n",
            "22\n",
            "257/257 [==============================] - 1s 3ms/step\n",
            "23\n",
            "257/257 [==============================] - 1s 3ms/step\n",
            "24\n",
            "257/257 [==============================] - 1s 3ms/step\n",
            "25\n",
            "257/257 [==============================] - 1s 3ms/step\n",
            "26\n",
            "257/257 [==============================] - 1s 3ms/step\n",
            "27\n",
            "257/257 [==============================] - 1s 3ms/step\n",
            "28\n",
            "257/257 [==============================] - 1s 3ms/step\n",
            "29\n",
            "257/257 [==============================] - 1s 3ms/step\n",
            "30\n",
            "257/257 [==============================] - 1s 4ms/step\n",
            "31\n",
            "257/257 [==============================] - 1s 4ms/step\n",
            "32\n",
            "257/257 [==============================] - 1s 3ms/step\n",
            "33\n",
            "257/257 [==============================] - 1s 3ms/step\n",
            "34\n",
            "257/257 [==============================] - 1s 3ms/step\n",
            "35\n",
            "257/257 [==============================] - 1s 3ms/step\n",
            "36\n",
            "257/257 [==============================] - 1s 3ms/step\n",
            "37\n",
            "257/257 [==============================] - 1s 3ms/step\n",
            "38\n",
            "257/257 [==============================] - 1s 3ms/step\n",
            "39\n",
            "257/257 [==============================] - 1s 3ms/step\n",
            "40\n",
            "257/257 [==============================] - 1s 3ms/step\n",
            "41\n",
            "257/257 [==============================] - 1s 3ms/step\n",
            "42\n",
            "257/257 [==============================] - 1s 4ms/step\n",
            "43\n",
            "257/257 [==============================] - 1s 4ms/step\n",
            "44\n",
            "257/257 [==============================] - 1s 3ms/step\n",
            "45\n",
            "257/257 [==============================] - 1s 3ms/step\n",
            "46\n",
            "257/257 [==============================] - 1s 3ms/step\n",
            "47\n",
            "257/257 [==============================] - 1s 3ms/step\n",
            "48\n",
            "257/257 [==============================] - 1s 3ms/step\n",
            "49\n",
            "257/257 [==============================] - 1s 3ms/step\n",
            "50\n",
            "257/257 [==============================] - 1s 3ms/step\n",
            "51\n",
            "257/257 [==============================] - 1s 3ms/step\n",
            "52\n",
            "257/257 [==============================] - 1s 3ms/step\n",
            "53\n",
            "257/257 [==============================] - 1s 3ms/step\n",
            "54\n",
            "257/257 [==============================] - 1s 4ms/step\n",
            "55\n",
            "257/257 [==============================] - 1s 4ms/step\n",
            "56\n",
            "257/257 [==============================] - 1s 3ms/step\n",
            "57\n",
            "257/257 [==============================] - 1s 3ms/step\n",
            "58\n",
            "257/257 [==============================] - 1s 3ms/step\n",
            "59\n",
            "257/257 [==============================] - 1s 3ms/step\n",
            "60\n",
            "257/257 [==============================] - 1s 3ms/step\n",
            "61\n",
            "257/257 [==============================] - 1s 3ms/step\n",
            "62\n",
            "257/257 [==============================] - 1s 3ms/step\n",
            "63\n",
            "257/257 [==============================] - 1s 3ms/step\n",
            "64\n",
            "257/257 [==============================] - 1s 3ms/step\n",
            "65\n",
            "257/257 [==============================] - 1s 3ms/step\n",
            "66\n",
            "257/257 [==============================] - 1s 3ms/step\n",
            "67\n",
            "257/257 [==============================] - 1s 4ms/step\n",
            "68\n",
            "257/257 [==============================] - 1s 4ms/step\n",
            "69\n",
            "257/257 [==============================] - 1s 3ms/step\n",
            "70\n",
            "257/257 [==============================] - 1s 3ms/step\n",
            "71\n",
            "257/257 [==============================] - 1s 3ms/step\n",
            "72\n",
            "257/257 [==============================] - 1s 3ms/step\n",
            "73\n",
            "257/257 [==============================] - 1s 3ms/step\n",
            "74\n",
            "257/257 [==============================] - 1s 3ms/step\n",
            "75\n",
            "257/257 [==============================] - 1s 3ms/step\n",
            "76\n",
            "257/257 [==============================] - 1s 3ms/step\n",
            "77\n",
            "257/257 [==============================] - 1s 3ms/step\n",
            "78\n",
            "257/257 [==============================] - 1s 4ms/step\n",
            "79\n",
            "257/257 [==============================] - 1s 4ms/step\n",
            "80\n",
            "257/257 [==============================] - 1s 3ms/step\n",
            "81\n",
            "257/257 [==============================] - 1s 3ms/step\n",
            "82\n",
            "257/257 [==============================] - 1s 3ms/step\n",
            "83\n",
            "257/257 [==============================] - 1s 3ms/step\n",
            "84\n",
            "257/257 [==============================] - 1s 3ms/step\n",
            "85\n",
            "257/257 [==============================] - 1s 3ms/step\n",
            "86\n",
            "257/257 [==============================] - 1s 3ms/step\n",
            "87\n",
            "257/257 [==============================] - 1s 3ms/step\n",
            "88\n",
            "257/257 [==============================] - 1s 3ms/step\n",
            "89\n",
            "257/257 [==============================] - 1s 3ms/step\n",
            "90\n",
            "257/257 [==============================] - 1s 4ms/step\n",
            "91\n",
            "257/257 [==============================] - 1s 4ms/step\n",
            "92\n",
            "257/257 [==============================] - 1s 3ms/step\n",
            "93\n",
            "257/257 [==============================] - 1s 3ms/step\n",
            "94\n",
            "257/257 [==============================] - 1s 3ms/step\n",
            "95\n",
            "257/257 [==============================] - 1s 3ms/step\n",
            "96\n",
            "257/257 [==============================] - 1s 3ms/step\n",
            "97\n",
            "257/257 [==============================] - 1s 3ms/step\n",
            "98\n",
            "257/257 [==============================] - 1s 3ms/step\n",
            "99\n",
            "257/257 [==============================] - 1s 3ms/step\n",
            "100\n",
            "257/257 [==============================] - 1s 3ms/step\n",
            "101\n",
            "257/257 [==============================] - 1s 4ms/step\n",
            "102\n",
            "257/257 [==============================] - 1s 4ms/step\n",
            "103\n",
            "257/257 [==============================] - 1s 4ms/step\n",
            "104\n",
            "257/257 [==============================] - 1s 3ms/step\n",
            "105\n",
            "257/257 [==============================] - 1s 3ms/step\n",
            "106\n",
            "257/257 [==============================] - 1s 3ms/step\n",
            "107\n",
            "257/257 [==============================] - 1s 3ms/step\n",
            "108\n",
            "257/257 [==============================] - 1s 3ms/step\n",
            "109\n",
            "257/257 [==============================] - 1s 3ms/step\n",
            "110\n",
            "257/257 [==============================] - 1s 3ms/step\n",
            "111\n",
            "257/257 [==============================] - 1s 3ms/step\n",
            "112\n",
            "257/257 [==============================] - 1s 3ms/step\n",
            "113\n",
            "257/257 [==============================] - 1s 4ms/step\n",
            "114\n",
            "257/257 [==============================] - 1s 4ms/step\n",
            "115\n",
            "257/257 [==============================] - 1s 3ms/step\n",
            "116\n",
            "257/257 [==============================] - 1s 3ms/step\n",
            "117\n",
            "257/257 [==============================] - 1s 3ms/step\n",
            "118\n",
            "257/257 [==============================] - 1s 3ms/step\n",
            "119\n",
            "257/257 [==============================] - 1s 3ms/step\n",
            "120\n",
            "257/257 [==============================] - 1s 3ms/step\n",
            "121\n",
            "257/257 [==============================] - 1s 3ms/step\n",
            "122\n",
            "257/257 [==============================] - 1s 3ms/step\n",
            "123\n",
            "257/257 [==============================] - 1s 4ms/step\n",
            "124\n",
            "257/257 [==============================] - 1s 4ms/step\n",
            "125\n",
            "257/257 [==============================] - 1s 4ms/step\n",
            "126\n",
            "257/257 [==============================] - 1s 3ms/step\n",
            "127\n",
            "257/257 [==============================] - 1s 3ms/step\n",
            "128\n",
            "257/257 [==============================] - 1s 3ms/step\n",
            "129\n",
            "257/257 [==============================] - 1s 3ms/step\n",
            "130\n",
            "257/257 [==============================] - 1s 3ms/step\n",
            "131\n",
            "257/257 [==============================] - 1s 3ms/step\n",
            "132\n",
            "257/257 [==============================] - 1s 3ms/step\n",
            "133\n",
            "257/257 [==============================] - 1s 3ms/step\n",
            "134\n",
            "257/257 [==============================] - 1s 3ms/step\n",
            "135\n",
            "257/257 [==============================] - 1s 3ms/step\n",
            "136\n",
            "257/257 [==============================] - 1s 4ms/step\n",
            "137\n",
            "257/257 [==============================] - 1s 4ms/step\n",
            "138\n",
            "257/257 [==============================] - 1s 3ms/step\n",
            "139\n",
            "257/257 [==============================] - 1s 3ms/step\n",
            "140\n",
            "257/257 [==============================] - 1s 3ms/step\n",
            "141\n",
            "257/257 [==============================] - 1s 3ms/step\n",
            "142\n",
            "257/257 [==============================] - 1s 3ms/step\n",
            "143\n",
            "257/257 [==============================] - 1s 3ms/step\n",
            "144\n",
            "257/257 [==============================] - 1s 3ms/step\n",
            "145\n",
            "257/257 [==============================] - 1s 3ms/step\n",
            "146\n",
            "257/257 [==============================] - 1s 3ms/step\n",
            "147\n",
            "257/257 [==============================] - 1s 4ms/step\n",
            "148\n",
            "257/257 [==============================] - 1s 4ms/step\n",
            "149\n",
            "257/257 [==============================] - 1s 4ms/step\n",
            "150\n",
            "257/257 [==============================] - 1s 3ms/step\n",
            "151\n",
            "257/257 [==============================] - 1s 3ms/step\n",
            "152\n",
            "257/257 [==============================] - 1s 3ms/step\n",
            "153\n",
            "257/257 [==============================] - 1s 3ms/step\n",
            "154\n",
            "257/257 [==============================] - 1s 3ms/step\n",
            "155\n",
            "257/257 [==============================] - 1s 3ms/step\n",
            "156\n",
            "257/257 [==============================] - 1s 3ms/step\n",
            "157\n",
            "257/257 [==============================] - 1s 3ms/step\n",
            "158\n",
            "257/257 [==============================] - 1s 3ms/step\n",
            "159\n",
            "257/257 [==============================] - 1s 4ms/step\n",
            "160\n",
            "257/257 [==============================] - 1s 4ms/step\n",
            "161\n",
            "257/257 [==============================] - 1s 3ms/step\n",
            "162\n",
            "257/257 [==============================] - 1s 3ms/step\n",
            "163\n"
          ]
        }
      ]
    },
    {
      "cell_type": "code",
      "source": [
        "a1 = []\n",
        "b1 = []"
      ],
      "metadata": {
        "id": "sYY15_apyqc7"
      },
      "execution_count": null,
      "outputs": []
    },
    {
      "cell_type": "code",
      "source": [
        "count = 0"
      ],
      "metadata": {
        "id": "yBcuYaoCzHU3"
      },
      "execution_count": null,
      "outputs": []
    },
    {
      "cell_type": "code",
      "source": [
        "for qid, agg_search in (enumerate(query_normal.itertuples(index=False))):\n",
        "  for product_id in agg_search.result_not_ranked:\n",
        "    count = count  + 1\n",
        "    if count < 1344144:\n",
        "      continue\n",
        "    if product_id is None:\n",
        "          continue\n",
        "    p_idx = products_id_to_idx[product_id]\n",
        "    a1.append(query[qid])\n",
        "    b1.append(doc[p_idx])\n"
      ],
      "metadata": {
        "id": "7mv-RlaHyfJF"
      },
      "execution_count": null,
      "outputs": []
    },
    {
      "cell_type": "code",
      "source": [
        "part1_pred = model.predict([np.array(a1) ,  np.array(b1)]).flatten()"
      ],
      "metadata": {
        "colab": {
          "base_uri": "https://localhost:8080/"
        },
        "id": "yPjkqnsn0ssO",
        "outputId": "f986accf-35c0-41a3-d49f-a34b76661d07"
      },
      "execution_count": null,
      "outputs": [
        {
          "output_type": "stream",
          "name": "stdout",
          "text": [
            "168/168 [==============================] - 1s 3ms/step\n"
          ]
        }
      ]
    },
    {
      "cell_type": "code",
      "source": [
        "pickle.dump(part1_pred , open('/content/drive/MyDrive/part1_pred.h5' , 'wb'))"
      ],
      "metadata": {
        "id": "Z3vd5zVM04FO"
      },
      "execution_count": null,
      "outputs": []
    },
    {
      "cell_type": "code",
      "source": [
        "pickle.dump(arr , open('/content/drive/MyDrive/predict.h5' , 'wb'))"
      ],
      "metadata": {
        "id": "9ZnoNTW4sy9M"
      },
      "execution_count": null,
      "outputs": []
    },
    {
      "cell_type": "code",
      "source": [
        "%reset -f"
      ],
      "metadata": {
        "id": "RSrykVxotLWX"
      },
      "execution_count": null,
      "outputs": []
    },
    {
      "cell_type": "code",
      "source": [
        "import pandas as pd\n",
        "import numpy as np\n",
        "import pickle\n",
        "import json"
      ],
      "metadata": {
        "id": "Y5-GETNAtg-m"
      },
      "execution_count": null,
      "outputs": []
    },
    {
      "cell_type": "code",
      "source": [
        "def read_json_lines(path, n_lines=None):\n",
        "    \"\"\"Creates a generator which reads and returns lines of\n",
        "    a json lines file, one line at a time, each as a dictionary.\n",
        "    \n",
        "    This could be used as a memory-efficient alternative of `pandas.read_json`\n",
        "    for reading a json lines file.\n",
        "    \"\"\"\n",
        "    with open(path, 'r') as f:\n",
        "        for i, line in enumerate(f):\n",
        "            if n_lines == i:\n",
        "                break\n",
        "            yield json.loads(line)\n",
        "aggregated_search_data_path = '/content/drive/MyDrive/torob/output_data/aggregated_search_data.jsonl'\n",
        "preprocessed_products_path = '/content/drive/MyDrive/torob/output_data/preprocessed_products.jsonl'\n",
        "preprocessed_test_queries_path = '/content/drive/MyDrive/torob/output_data/preprocessed_test_queries.jsonl'"
      ],
      "metadata": {
        "id": "NIFFRhTytqsj"
      },
      "execution_count": null,
      "outputs": []
    },
    {
      "cell_type": "code",
      "source": [
        "test_data_df = query_normal = pd.DataFrame(read_json_lines('/content/drive/MyDrive/torob/data/test-offline-data_v1.jsonl'))"
      ],
      "metadata": {
        "id": "qq06iUVKtRvf"
      },
      "execution_count": null,
      "outputs": []
    },
    {
      "cell_type": "code",
      "source": [],
      "metadata": {
        "id": "oszqD_Y4otMR"
      },
      "execution_count": null,
      "outputs": []
    },
    {
      "cell_type": "code",
      "source": [],
      "metadata": {
        "id": "NIEwr2iYoofk"
      },
      "execution_count": null,
      "outputs": []
    },
    {
      "cell_type": "code",
      "source": [
        "pred = pickle.load(open('/content/drive/MyDrive/predict.h5' , 'rb'))\n",
        "part1_pred = pickle.load(open('/content/drive/MyDrive/part1_pred.h5' , 'rb'))"
      ],
      "metadata": {
        "id": "wEa7T8VztgGa"
      },
      "execution_count": null,
      "outputs": []
    },
    {
      "cell_type": "code",
      "source": [
        "pred = np.concatenate((pred , part1_pred))"
      ],
      "metadata": {
        "id": "zA1g0VUD1Qxp"
      },
      "execution_count": null,
      "outputs": []
    },
    {
      "cell_type": "code",
      "source": [
        "test_predictions = []"
      ],
      "metadata": {
        "id": "n5sF8DPns8nn"
      },
      "execution_count": null,
      "outputs": []
    },
    {
      "cell_type": "code",
      "source": [
        "start_idx = 0\n",
        "for test_candidates in  test_data_df['result_not_ranked']:\n",
        "  preds_sample = pred[start_idx:start_idx + len(test_candidates)]\n",
        "  sorted_idx = np.argsort(preds_sample)[::-1]\n",
        "  sorted_candidates = [test_candidates[i] for i in sorted_idx]\n",
        "  test_predictions.append(sorted_candidates)\n",
        "  start_idx += len(test_candidates)"
      ],
      "metadata": {
        "id": "ANfCsUC9tGsz"
      },
      "execution_count": null,
      "outputs": []
    },
    {
      "cell_type": "code",
      "source": [
        "def write_test_predictions(predictions_path, predictions):\n",
        "    lines = []\n",
        "    for preds in predictions:\n",
        "        lines.append(\",\".join([str(p_id) for p_id in preds]))\n",
        "\n",
        "    with open(predictions_path, 'w') as f:\n",
        "        f.write(\"\\n\".join(lines))"
      ],
      "metadata": {
        "id": "lgZZKvHktGzZ"
      },
      "execution_count": null,
      "outputs": []
    },
    {
      "cell_type": "code",
      "source": [
        "write_test_predictions('/content/predictions.txt', test_predictions)"
      ],
      "metadata": {
        "id": "PmdsXvaYtG1_"
      },
      "execution_count": null,
      "outputs": []
    },
    {
      "cell_type": "code",
      "source": [],
      "metadata": {
        "id": "i4LgZjQguHXo"
      },
      "execution_count": null,
      "outputs": []
    }
  ]
}